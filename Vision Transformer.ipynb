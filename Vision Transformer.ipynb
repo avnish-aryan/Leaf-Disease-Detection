{
  "cells": [
    {
      "cell_type": "markdown",
      "metadata": {
        "id": "view-in-github",
        "colab_type": "text"
      },
      "source": [
        "<a href=\"https://colab.research.google.com/github/avnish-aryan/Leaf-Disease-Detection/blob/main/Vision%20Transformer.ipynb\" target=\"_parent\"><img src=\"https://colab.research.google.com/assets/colab-badge.svg\" alt=\"Open In Colab\"/></a>"
      ]
    },
    {
      "cell_type": "code",
      "execution_count": 1,
      "metadata": {
        "colab": {
          "base_uri": "https://localhost:8080/"
        },
        "id": "7WRWjJ4z64jD",
        "outputId": "4f13e3f0-0c56-48c2-c538-8f14b9a4ee33"
      },
      "outputs": [
        {
          "output_type": "stream",
          "name": "stdout",
          "text": [
            "Cloning into 'PlantVillage-Dataset'...\n",
            "remote: Enumerating objects: 163229, done.\u001b[K\n",
            "remote: Total 163229 (delta 0), reused 0 (delta 0), pack-reused 163229\u001b[K\n",
            "Receiving objects: 100% (163229/163229), 2.00 GiB | 18.76 MiB/s, done.\n",
            "Resolving deltas: 100% (99/99), done.\n",
            "Updating files: 100% (182401/182401), done.\n"
          ]
        }
      ],
      "source": [
        "!git clone https://github.com/spMohanty/PlantVillage-Dataset.git"
      ]
    },
    {
      "cell_type": "code",
      "execution_count": 2,
      "metadata": {
        "colab": {
          "base_uri": "https://localhost:8080/"
        },
        "id": "0yXU7zev7CxV",
        "outputId": "757b340e-a98b-4913-8a06-5c81597970dd"
      },
      "outputs": [
        {
          "output_type": "stream",
          "name": "stdout",
          "text": [
            "['Grape___Black_rot', 'Strawberry___healthy', 'Apple___Cedar_apple_rust', 'Tomato___Tomato_mosaic_virus', 'Corn_(maize)___Northern_Leaf_Blight', 'Strawberry___Leaf_scorch', 'Potato___Late_blight', 'Tomato___healthy', 'Peach___Bacterial_spot', 'Pepper,_bell___Bacterial_spot', 'Grape___Esca_(Black_Measles)', 'Potato___Early_blight', 'Tomato___Early_blight', 'Corn_(maize)___Common_rust_', 'Grape___Leaf_blight_(Isariopsis_Leaf_Spot)', 'Orange___Haunglongbing_(Citrus_greening)', 'Tomato___Tomato_Yellow_Leaf_Curl_Virus', 'Cherry_(including_sour)___healthy', 'Tomato___Bacterial_spot', 'Tomato___Leaf_Mold', 'Corn_(maize)___healthy', 'Apple___healthy', 'Cherry_(including_sour)___Powdery_mildew', 'Blueberry___healthy', 'Soybean___healthy', 'Tomato___Late_blight', 'Raspberry___healthy', 'Potato___healthy', 'Corn_(maize)___Cercospora_leaf_spot Gray_leaf_spot', 'Apple___Apple_scab', 'Peach___healthy', 'Tomato___Spider_mites Two-spotted_spider_mite', 'Pepper,_bell___healthy', 'Tomato___Septoria_leaf_spot', 'Squash___Powdery_mildew', 'Apple___Black_rot', 'Grape___healthy', 'Tomato___Target_Spot']\n"
          ]
        }
      ],
      "source": [
        "import os\n",
        "\n",
        "data_path = \"/content/PlantVillage-Dataset/raw/color\"  # Storing the path to the repository in a variable\n",
        "\n",
        "data_files = os.listdir(data_path)\n",
        "print(data_files)"
      ]
    },
    {
      "cell_type": "code",
      "execution_count": 4,
      "metadata": {
        "id": "9tTlrH3f7ERl"
      },
      "outputs": [],
      "source": [
        "# Making directories for training, validation and testing sets\n",
        "\n",
        "train_dir = '/content/train_data'\n",
        "valid_dir = '/content/validation_data'\n",
        "test_dir = '/content/test_data'"
      ]
    },
    {
      "cell_type": "code",
      "execution_count": 5,
      "metadata": {
        "id": "2cgLP8lq7GGK"
      },
      "outputs": [],
      "source": [
        "os.makedirs(train_dir, exist_ok=True)\n",
        "os.makedirs(valid_dir, exist_ok=True)\n",
        "os.makedirs(test_dir, exist_ok=True)"
      ]
    },
    {
      "cell_type": "code",
      "execution_count": 7,
      "metadata": {
        "id": "2gtzC0id7Hik"
      },
      "outputs": [],
      "source": [
        "import os\n",
        "import shutil\n",
        "import random"
      ]
    },
    {
      "cell_type": "code",
      "execution_count": 8,
      "metadata": {
        "colab": {
          "base_uri": "https://localhost:8080/"
        },
        "id": "3FWSDOd47J12",
        "outputId": "368dcc54-5a52-447c-ed19-e071f35bb3f2"
      },
      "outputs": [
        {
          "output_type": "stream",
          "name": "stdout",
          "text": [
            "['Grape___Black_rot', 'Strawberry___healthy', 'Apple___Cedar_apple_rust', 'Tomato___Tomato_mosaic_virus', 'Corn_(maize)___Northern_Leaf_Blight', 'Strawberry___Leaf_scorch', 'Potato___Late_blight', 'Tomato___healthy', 'Peach___Bacterial_spot', 'Pepper,_bell___Bacterial_spot', 'Grape___Esca_(Black_Measles)', 'Potato___Early_blight', 'Tomato___Early_blight', 'Corn_(maize)___Common_rust_', 'Grape___Leaf_blight_(Isariopsis_Leaf_Spot)', 'Orange___Haunglongbing_(Citrus_greening)', 'Tomato___Tomato_Yellow_Leaf_Curl_Virus', 'Cherry_(including_sour)___healthy', 'Tomato___Bacterial_spot', 'Tomato___Leaf_Mold', 'Corn_(maize)___healthy', 'Apple___healthy', 'Cherry_(including_sour)___Powdery_mildew', 'Blueberry___healthy', 'Soybean___healthy', 'Tomato___Late_blight', 'Raspberry___healthy', 'Potato___healthy', 'Corn_(maize)___Cercospora_leaf_spot Gray_leaf_spot', 'Apple___Apple_scab', 'Peach___healthy', 'Tomato___Spider_mites Two-spotted_spider_mite', 'Pepper,_bell___healthy', 'Tomato___Septoria_leaf_spot', 'Squash___Powdery_mildew', 'Apple___Black_rot', 'Grape___healthy', 'Tomato___Target_Spot']\n"
          ]
        }
      ],
      "source": [
        "class_folders = os.listdir(data_path)\n",
        "print(class_folders)"
      ]
    },
    {
      "cell_type": "code",
      "execution_count": 9,
      "metadata": {
        "colab": {
          "base_uri": "https://localhost:8080/"
        },
        "id": "w2RGXaPT7LT4",
        "outputId": "a9b71524-562f-48b7-879e-7fef562cd939"
      },
      "outputs": [
        {
          "output_type": "stream",
          "name": "stdout",
          "text": [
            "Dataset split into train, validation, and test sets.\n"
          ]
        }
      ],
      "source": [
        "# Using a data loader to split data\n",
        "\n",
        "train_split = 0.8\n",
        "valid_split = 0.1\n",
        "test_split = 0.1\n",
        "\n",
        "for class_folder in class_folders:\n",
        "    class_path = os.path.join(data_path, class_folder)\n",
        "    if os.path.isdir(class_path):\n",
        "        images = os.listdir(class_path)\n",
        "        random.shuffle(images)\n",
        "\n",
        "        num_images = len(images)\n",
        "        num_train = int(train_split * num_images)\n",
        "        num_valid = int(valid_split * num_images)\n",
        "\n",
        "        train_images = images[:num_train]\n",
        "        valid_images = images[num_train:num_train + num_valid]\n",
        "        test_images = images[num_train + num_valid:]\n",
        "\n",
        "        train_class_dir = os.path.join(train_dir, class_folder)\n",
        "        valid_class_dir = os.path.join(valid_dir, class_folder)\n",
        "        test_class_dir = os.path.join(test_dir, class_folder)\n",
        "\n",
        "        os.makedirs(train_class_dir, exist_ok=True)\n",
        "        os.makedirs(valid_class_dir, exist_ok=True)\n",
        "        os.makedirs(test_class_dir, exist_ok=True)\n",
        "\n",
        "        for image in train_images:\n",
        "            src = os.path.join(class_path, image)\n",
        "            dst = os.path.join(train_class_dir, image)\n",
        "            shutil.copy(src, dst)\n",
        "\n",
        "        for image in valid_images:\n",
        "            src = os.path.join(class_path, image)\n",
        "            dst = os.path.join(valid_class_dir, image)\n",
        "            shutil.copy(src, dst)\n",
        "\n",
        "        for image in test_images:\n",
        "            src = os.path.join(class_path, image)\n",
        "            dst = os.path.join(test_class_dir, image)\n",
        "            shutil.copy(src, dst)\n",
        "\n",
        "print(\"Dataset split into train, validation, and test sets.\")"
      ]
    },
    {
      "cell_type": "code",
      "execution_count": 10,
      "metadata": {
        "colab": {
          "base_uri": "https://localhost:8080/"
        },
        "id": "zWzhTTus7PfN",
        "outputId": "d184cd22-709e-4aa6-96b6-562297ae0707"
      },
      "outputs": [
        {
          "output_type": "stream",
          "name": "stdout",
          "text": [
            "Found 43429 images belonging to 38 classes.\n",
            "Found 5417 images belonging to 38 classes.\n",
            "Found 5459 images belonging to 38 classes.\n"
          ]
        }
      ],
      "source": [
        "from tensorflow.keras.preprocessing.image import ImageDataGenerator\n",
        "\n",
        "image_size = (120, 120)\n",
        "batch_size = 32\n",
        "\n",
        "# Creating a data generator for training, validation and testing data\n",
        "train_datagen = ImageDataGenerator(\n",
        "    rescale=1.0/255,\n",
        "    rotation_range=20,\n",
        "    width_shift_range=0.2,\n",
        "    height_shift_range=0.2,\n",
        "    horizontal_flip=True\n",
        ")\n",
        "\n",
        "train_generator = train_datagen.flow_from_directory(\n",
        "    train_dir,\n",
        "    target_size=image_size,\n",
        "    batch_size=batch_size,\n",
        "    class_mode='categorical'\n",
        ")\n",
        "\n",
        "\n",
        "valid_datagen = ImageDataGenerator(rescale=1.0/255)\n",
        "\n",
        "\n",
        "valid_generator = valid_datagen.flow_from_directory(\n",
        "    valid_dir,\n",
        "    target_size=image_size,\n",
        "    batch_size=batch_size,\n",
        "    class_mode='categorical'\n",
        ")\n",
        "\n",
        "test_datagen = ImageDataGenerator(rescale=1.0/255)\n",
        "\n",
        "test_generator = test_datagen.flow_from_directory(\n",
        "    test_dir,\n",
        "    target_size=image_size,\n",
        "    batch_size=batch_size,\n",
        "    class_mode='categorical'\n",
        ")"
      ]
    },
    {
      "cell_type": "code",
      "execution_count": 11,
      "metadata": {
        "id": "0scoO27u8acR"
      },
      "outputs": [],
      "source": [
        "input_shape = (120,120,3)\n",
        "num_classes = 38"
      ]
    },
    {
      "cell_type": "code",
      "execution_count": 12,
      "metadata": {
        "id": "nm8_63xDIbGp"
      },
      "outputs": [],
      "source": [
        "import tensorflow as tf\n",
        "from tensorflow import keras\n",
        "from tensorflow.keras import layers\n",
        "from tensorflow.keras.preprocessing.image import ImageDataGenerator"
      ]
    },
    {
      "cell_type": "code",
      "execution_count": 13,
      "metadata": {
        "colab": {
          "base_uri": "https://localhost:8080/"
        },
        "id": "Gzs1eH4HIedn",
        "outputId": "bbd80fc1-a8ea-40b8-8670-8c02c1299b4a"
      },
      "outputs": [
        {
          "output_type": "stream",
          "name": "stdout",
          "text": [
            "Model: \"model\"\n",
            "__________________________________________________________________________________________________\n",
            " Layer (type)                   Output Shape         Param #     Connected to                     \n",
            "==================================================================================================\n",
            " input_1 (InputLayer)           [(None, 120, 120, 3  0           []                               \n",
            "                                )]                                                                \n",
            "                                                                                                  \n",
            " conv2d (Conv2D)                (None, 7, 7, 256)    196864      ['input_1[0][0]']                \n",
            "                                                                                                  \n",
            " reshape (Reshape)              (None, 49, 256)      0           ['conv2d[0][0]']                 \n",
            "                                                                                                  \n",
            " tf.__operators__.add (TFOpLamb  (None, 49, 256)     0           ['reshape[0][0]']                \n",
            " da)                                                                                              \n",
            "                                                                                                  \n",
            " multi_head_attention (MultiHea  (None, 49, 256)     263168      ['tf.__operators__.add[0][0]',   \n",
            " dAttention)                                                      'tf.__operators__.add[0][0]']   \n",
            "                                                                                                  \n",
            " dropout (Dropout)              (None, 49, 256)      0           ['multi_head_attention[0][0]']   \n",
            "                                                                                                  \n",
            " tf.__operators__.add_1 (TFOpLa  (None, 49, 256)     0           ['tf.__operators__.add[0][0]',   \n",
            " mbda)                                                            'dropout[0][0]']                \n",
            "                                                                                                  \n",
            " layer_normalization (LayerNorm  (None, 49, 256)     512         ['tf.__operators__.add_1[0][0]'] \n",
            " alization)                                                                                       \n",
            "                                                                                                  \n",
            " conv1d (Conv1D)                (None, 49, 512)      131584      ['layer_normalization[0][0]']    \n",
            "                                                                                                  \n",
            " conv1d_1 (Conv1D)              (None, 49, 256)      131328      ['conv1d[0][0]']                 \n",
            "                                                                                                  \n",
            " dropout_1 (Dropout)            (None, 49, 256)      0           ['conv1d_1[0][0]']               \n",
            "                                                                                                  \n",
            " tf.__operators__.add_2 (TFOpLa  (None, 49, 256)     0           ['layer_normalization[0][0]',    \n",
            " mbda)                                                            'dropout_1[0][0]']              \n",
            "                                                                                                  \n",
            " layer_normalization_1 (LayerNo  (None, 49, 256)     512         ['tf.__operators__.add_2[0][0]'] \n",
            " rmalization)                                                                                     \n",
            "                                                                                                  \n",
            " multi_head_attention_1 (MultiH  (None, 49, 256)     263168      ['layer_normalization_1[0][0]',  \n",
            " eadAttention)                                                    'layer_normalization_1[0][0]']  \n",
            "                                                                                                  \n",
            " dropout_2 (Dropout)            (None, 49, 256)      0           ['multi_head_attention_1[0][0]'] \n",
            "                                                                                                  \n",
            " tf.__operators__.add_3 (TFOpLa  (None, 49, 256)     0           ['layer_normalization_1[0][0]',  \n",
            " mbda)                                                            'dropout_2[0][0]']              \n",
            "                                                                                                  \n",
            " layer_normalization_2 (LayerNo  (None, 49, 256)     512         ['tf.__operators__.add_3[0][0]'] \n",
            " rmalization)                                                                                     \n",
            "                                                                                                  \n",
            " conv1d_2 (Conv1D)              (None, 49, 512)      131584      ['layer_normalization_2[0][0]']  \n",
            "                                                                                                  \n",
            " conv1d_3 (Conv1D)              (None, 49, 256)      131328      ['conv1d_2[0][0]']               \n",
            "                                                                                                  \n",
            " dropout_3 (Dropout)            (None, 49, 256)      0           ['conv1d_3[0][0]']               \n",
            "                                                                                                  \n",
            " tf.__operators__.add_4 (TFOpLa  (None, 49, 256)     0           ['layer_normalization_2[0][0]',  \n",
            " mbda)                                                            'dropout_3[0][0]']              \n",
            "                                                                                                  \n",
            " layer_normalization_3 (LayerNo  (None, 49, 256)     512         ['tf.__operators__.add_4[0][0]'] \n",
            " rmalization)                                                                                     \n",
            "                                                                                                  \n",
            " multi_head_attention_2 (MultiH  (None, 49, 256)     263168      ['layer_normalization_3[0][0]',  \n",
            " eadAttention)                                                    'layer_normalization_3[0][0]']  \n",
            "                                                                                                  \n",
            " dropout_4 (Dropout)            (None, 49, 256)      0           ['multi_head_attention_2[0][0]'] \n",
            "                                                                                                  \n",
            " tf.__operators__.add_5 (TFOpLa  (None, 49, 256)     0           ['layer_normalization_3[0][0]',  \n",
            " mbda)                                                            'dropout_4[0][0]']              \n",
            "                                                                                                  \n",
            " layer_normalization_4 (LayerNo  (None, 49, 256)     512         ['tf.__operators__.add_5[0][0]'] \n",
            " rmalization)                                                                                     \n",
            "                                                                                                  \n",
            " conv1d_4 (Conv1D)              (None, 49, 512)      131584      ['layer_normalization_4[0][0]']  \n",
            "                                                                                                  \n",
            " conv1d_5 (Conv1D)              (None, 49, 256)      131328      ['conv1d_4[0][0]']               \n",
            "                                                                                                  \n",
            " dropout_5 (Dropout)            (None, 49, 256)      0           ['conv1d_5[0][0]']               \n",
            "                                                                                                  \n",
            " tf.__operators__.add_6 (TFOpLa  (None, 49, 256)     0           ['layer_normalization_4[0][0]',  \n",
            " mbda)                                                            'dropout_5[0][0]']              \n",
            "                                                                                                  \n",
            " layer_normalization_5 (LayerNo  (None, 49, 256)     512         ['tf.__operators__.add_6[0][0]'] \n",
            " rmalization)                                                                                     \n",
            "                                                                                                  \n",
            " multi_head_attention_3 (MultiH  (None, 49, 256)     263168      ['layer_normalization_5[0][0]',  \n",
            " eadAttention)                                                    'layer_normalization_5[0][0]']  \n",
            "                                                                                                  \n",
            " dropout_6 (Dropout)            (None, 49, 256)      0           ['multi_head_attention_3[0][0]'] \n",
            "                                                                                                  \n",
            " tf.__operators__.add_7 (TFOpLa  (None, 49, 256)     0           ['layer_normalization_5[0][0]',  \n",
            " mbda)                                                            'dropout_6[0][0]']              \n",
            "                                                                                                  \n",
            " layer_normalization_6 (LayerNo  (None, 49, 256)     512         ['tf.__operators__.add_7[0][0]'] \n",
            " rmalization)                                                                                     \n",
            "                                                                                                  \n",
            " conv1d_6 (Conv1D)              (None, 49, 512)      131584      ['layer_normalization_6[0][0]']  \n",
            "                                                                                                  \n",
            " conv1d_7 (Conv1D)              (None, 49, 256)      131328      ['conv1d_6[0][0]']               \n",
            "                                                                                                  \n",
            " dropout_7 (Dropout)            (None, 49, 256)      0           ['conv1d_7[0][0]']               \n",
            "                                                                                                  \n",
            " tf.__operators__.add_8 (TFOpLa  (None, 49, 256)     0           ['layer_normalization_6[0][0]',  \n",
            " mbda)                                                            'dropout_7[0][0]']              \n",
            "                                                                                                  \n",
            " layer_normalization_7 (LayerNo  (None, 49, 256)     512         ['tf.__operators__.add_8[0][0]'] \n",
            " rmalization)                                                                                     \n",
            "                                                                                                  \n",
            " multi_head_attention_4 (MultiH  (None, 49, 256)     263168      ['layer_normalization_7[0][0]',  \n",
            " eadAttention)                                                    'layer_normalization_7[0][0]']  \n",
            "                                                                                                  \n",
            " dropout_8 (Dropout)            (None, 49, 256)      0           ['multi_head_attention_4[0][0]'] \n",
            "                                                                                                  \n",
            " tf.__operators__.add_9 (TFOpLa  (None, 49, 256)     0           ['layer_normalization_7[0][0]',  \n",
            " mbda)                                                            'dropout_8[0][0]']              \n",
            "                                                                                                  \n",
            " layer_normalization_8 (LayerNo  (None, 49, 256)     512         ['tf.__operators__.add_9[0][0]'] \n",
            " rmalization)                                                                                     \n",
            "                                                                                                  \n",
            " conv1d_8 (Conv1D)              (None, 49, 512)      131584      ['layer_normalization_8[0][0]']  \n",
            "                                                                                                  \n",
            " conv1d_9 (Conv1D)              (None, 49, 256)      131328      ['conv1d_8[0][0]']               \n",
            "                                                                                                  \n",
            " dropout_9 (Dropout)            (None, 49, 256)      0           ['conv1d_9[0][0]']               \n",
            "                                                                                                  \n",
            " tf.__operators__.add_10 (TFOpL  (None, 49, 256)     0           ['layer_normalization_8[0][0]',  \n",
            " ambda)                                                           'dropout_9[0][0]']              \n",
            "                                                                                                  \n",
            " layer_normalization_9 (LayerNo  (None, 49, 256)     512         ['tf.__operators__.add_10[0][0]']\n",
            " rmalization)                                                                                     \n",
            "                                                                                                  \n",
            " multi_head_attention_5 (MultiH  (None, 49, 256)     263168      ['layer_normalization_9[0][0]',  \n",
            " eadAttention)                                                    'layer_normalization_9[0][0]']  \n",
            "                                                                                                  \n",
            " dropout_10 (Dropout)           (None, 49, 256)      0           ['multi_head_attention_5[0][0]'] \n",
            "                                                                                                  \n",
            " tf.__operators__.add_11 (TFOpL  (None, 49, 256)     0           ['layer_normalization_9[0][0]',  \n",
            " ambda)                                                           'dropout_10[0][0]']             \n",
            "                                                                                                  \n",
            " layer_normalization_10 (LayerN  (None, 49, 256)     512         ['tf.__operators__.add_11[0][0]']\n",
            " ormalization)                                                                                    \n",
            "                                                                                                  \n",
            " conv1d_10 (Conv1D)             (None, 49, 512)      131584      ['layer_normalization_10[0][0]'] \n",
            "                                                                                                  \n",
            " conv1d_11 (Conv1D)             (None, 49, 256)      131328      ['conv1d_10[0][0]']              \n",
            "                                                                                                  \n",
            " dropout_11 (Dropout)           (None, 49, 256)      0           ['conv1d_11[0][0]']              \n",
            "                                                                                                  \n",
            " tf.__operators__.add_12 (TFOpL  (None, 49, 256)     0           ['layer_normalization_10[0][0]', \n",
            " ambda)                                                           'dropout_11[0][0]']             \n",
            "                                                                                                  \n",
            " layer_normalization_11 (LayerN  (None, 49, 256)     512         ['tf.__operators__.add_12[0][0]']\n",
            " ormalization)                                                                                    \n",
            "                                                                                                  \n",
            " global_average_pooling1d (Glob  (None, 256)         0           ['layer_normalization_11[0][0]'] \n",
            " alAveragePooling1D)                                                                              \n",
            "                                                                                                  \n",
            " dense (Dense)                  (None, 256)          65792       ['global_average_pooling1d[0][0]'\n",
            "                                                                 ]                                \n",
            "                                                                                                  \n",
            " dense_1 (Dense)                (None, 38)           9766        ['dense[0][0]']                  \n",
            "                                                                                                  \n",
            "==================================================================================================\n",
            "Total params: 3,435,046\n",
            "Trainable params: 3,435,046\n",
            "Non-trainable params: 0\n",
            "__________________________________________________________________________________________________\n"
          ]
        }
      ],
      "source": [
        "import tensorflow as tf\n",
        "from tensorflow import keras\n",
        "from tensorflow.keras import layers\n",
        "\n",
        "# Define the ViT model architecture\n",
        "def create_vit_model(input_shape, num_classes):\n",
        "    inputs = keras.Input(shape=input_shape)\n",
        "    patch_size = 16  # Patch size for the ViT model\n",
        "    num_patches = (input_shape[0] // patch_size) * (input_shape[1] // patch_size)\n",
        "    embedding_dim = 256  # Embedding dimension\n",
        "    num_heads = 4  # Number of attention heads\n",
        "    mlp_dim = 512  # MLP hidden dimension\n",
        "    num_layers = 6  # Number of transformer layers\n",
        "\n",
        "    # Patch embedding layer\n",
        "    x = layers.Conv2D(embedding_dim, kernel_size=patch_size, strides=patch_size, padding=\"valid\")(inputs)\n",
        "    x = layers.Reshape((num_patches, embedding_dim))(x)\n",
        "\n",
        "    # Positional embedding\n",
        "    positions = keras.layers.Embedding(input_dim=num_patches, output_dim=embedding_dim)(tf.range(num_patches))\n",
        "    x = x + positions\n",
        "\n",
        "    # Transformer encoder layers\n",
        "    for _ in range(num_layers):\n",
        "        # Multi-head self-attention\n",
        "        y = layers.MultiHeadAttention(num_heads=num_heads, key_dim=embedding_dim // num_heads)(x, x)\n",
        "        y = layers.Dropout(0.1)(y)\n",
        "        x = layers.LayerNormalization(epsilon=1e-6)(x + y)\n",
        "\n",
        "        # Feed-forward MLP\n",
        "        y = layers.Conv1D(filters=mlp_dim, kernel_size=1, activation=\"gelu\")(x)\n",
        "        y = layers.Conv1D(filters=embedding_dim, kernel_size=1)(y)\n",
        "        y = layers.Dropout(0.1)(y)\n",
        "        x = layers.LayerNormalization(epsilon=1e-6)(x + y)\n",
        "\n",
        "    # Global average pooling and classification head\n",
        "    x = layers.GlobalAveragePooling1D()(x)\n",
        "    x = layers.Dense(embedding_dim, activation=\"relu\")(x)\n",
        "    outputs = layers.Dense(num_classes, activation=\"softmax\")(x)\n",
        "\n",
        "    # Create the model\n",
        "    model = keras.Model(inputs, outputs)\n",
        "    return model\n",
        "\n",
        "# Specify input shape and number of classes\n",
        "input_shape = (120, 120, 3)\n",
        "num_classes = 38\n",
        "\n",
        "# Create the ViT model\n",
        "vit_model = create_vit_model(input_shape, num_classes)\n",
        "\n",
        "# Compile the model\n",
        "vit_model.compile(\n",
        "    optimizer=tf.keras.optimizers.Adam(learning_rate=0.0001),\n",
        "    loss='categorical_crossentropy',\n",
        "    metrics=['accuracy'],\n",
        ")\n",
        "\n",
        "# Print model summary\n",
        "vit_model.summary()\n"
      ]
    },
    {
      "cell_type": "code",
      "execution_count": 14,
      "metadata": {
        "colab": {
          "base_uri": "https://localhost:8080/"
        },
        "id": "-1LMYubdKSuK",
        "outputId": "31ebab09-2cad-464f-a7a1-25e32d588db9"
      },
      "outputs": [
        {
          "output_type": "stream",
          "name": "stdout",
          "text": [
            "Epoch 1/20\n",
            "1358/1358 [==============================] - 244s 157ms/step - loss: 1.9411 - accuracy: 0.4542 - val_loss: 0.9991 - val_accuracy: 0.6930\n",
            "Epoch 2/20\n",
            "1358/1358 [==============================] - 213s 157ms/step - loss: 0.8493 - accuracy: 0.7440 - val_loss: 0.6759 - val_accuracy: 0.7857\n",
            "Epoch 3/20\n",
            "1358/1358 [==============================] - 213s 156ms/step - loss: 0.6055 - accuracy: 0.8095 - val_loss: 0.4826 - val_accuracy: 0.8484\n",
            "Epoch 4/20\n",
            "1358/1358 [==============================] - 213s 157ms/step - loss: 0.4954 - accuracy: 0.8411 - val_loss: 0.3990 - val_accuracy: 0.8721\n",
            "Epoch 5/20\n",
            "1358/1358 [==============================] - 212s 156ms/step - loss: 0.4265 - accuracy: 0.8627 - val_loss: 0.2977 - val_accuracy: 0.9068\n",
            "Epoch 6/20\n",
            "1358/1358 [==============================] - 212s 156ms/step - loss: 0.3753 - accuracy: 0.8784 - val_loss: 0.3303 - val_accuracy: 0.8946\n",
            "Epoch 7/20\n",
            "1358/1358 [==============================] - 213s 157ms/step - loss: 0.3328 - accuracy: 0.8921 - val_loss: 0.2924 - val_accuracy: 0.9038\n",
            "Epoch 8/20\n",
            "1358/1358 [==============================] - 207s 152ms/step - loss: 0.3038 - accuracy: 0.9004 - val_loss: 0.2579 - val_accuracy: 0.9143\n",
            "Epoch 9/20\n",
            "1358/1358 [==============================] - 205s 151ms/step - loss: 0.2825 - accuracy: 0.9083 - val_loss: 0.2527 - val_accuracy: 0.9169\n",
            "Epoch 10/20\n",
            "1358/1358 [==============================] - 207s 152ms/step - loss: 0.2568 - accuracy: 0.9148 - val_loss: 0.2105 - val_accuracy: 0.9297\n",
            "Epoch 11/20\n",
            "1358/1358 [==============================] - 206s 152ms/step - loss: 0.2407 - accuracy: 0.9201 - val_loss: 0.1793 - val_accuracy: 0.9430\n",
            "Epoch 12/20\n",
            "1358/1358 [==============================] - 210s 155ms/step - loss: 0.2136 - accuracy: 0.9279 - val_loss: 0.1819 - val_accuracy: 0.9391\n",
            "Epoch 13/20\n",
            "1358/1358 [==============================] - 207s 153ms/step - loss: 0.2095 - accuracy: 0.9302 - val_loss: 0.1695 - val_accuracy: 0.9437\n",
            "Epoch 14/20\n",
            "1358/1358 [==============================] - 213s 157ms/step - loss: 0.1975 - accuracy: 0.9333 - val_loss: 0.1929 - val_accuracy: 0.9345\n",
            "Epoch 15/20\n",
            "1358/1358 [==============================] - 211s 156ms/step - loss: 0.1926 - accuracy: 0.9363 - val_loss: 0.1397 - val_accuracy: 0.9553\n",
            "Epoch 16/20\n",
            "1358/1358 [==============================] - 207s 152ms/step - loss: 0.1836 - accuracy: 0.9389 - val_loss: 0.1216 - val_accuracy: 0.9618\n",
            "Epoch 17/20\n",
            "1358/1358 [==============================] - 207s 152ms/step - loss: 0.1739 - accuracy: 0.9422 - val_loss: 0.1213 - val_accuracy: 0.9599\n",
            "Epoch 18/20\n",
            "1358/1358 [==============================] - 207s 153ms/step - loss: 0.1616 - accuracy: 0.9449 - val_loss: 0.1956 - val_accuracy: 0.9335\n",
            "Epoch 19/20\n",
            "1358/1358 [==============================] - 207s 153ms/step - loss: 0.1545 - accuracy: 0.9485 - val_loss: 0.1619 - val_accuracy: 0.9503\n",
            "Epoch 20/20\n",
            "1358/1358 [==============================] - 207s 153ms/step - loss: 0.1437 - accuracy: 0.9511 - val_loss: 0.1152 - val_accuracy: 0.9596\n"
          ]
        }
      ],
      "source": [
        "# Specify the number of epochs and steps per epoch\n",
        "epochs = 20  # Adjust the number of epochs as needed\n",
        "steps_per_epoch = len(train_generator)\n",
        "validation_steps = len(valid_generator)\n",
        "\n",
        "# Train the model\n",
        "history = vit_model.fit(\n",
        "    train_generator,\n",
        "    epochs=epochs,\n",
        "    steps_per_epoch=steps_per_epoch,\n",
        "    validation_data=valid_generator,\n",
        "    validation_steps=validation_steps,\n",
        ")\n"
      ]
    },
    {
      "cell_type": "code",
      "execution_count": 15,
      "metadata": {
        "id": "DN9IZDQeKg3m",
        "colab": {
          "base_uri": "https://localhost:8080/"
        },
        "outputId": "cf93b135-adc4-48fa-dc9f-bec6fe024776"
      },
      "outputs": [
        {
          "output_type": "stream",
          "name": "stdout",
          "text": [
            "171/171 [==============================] - 6s 36ms/step - loss: 0.1118 - accuracy: 0.9623\n",
            "Test Accuracy:96.23%\n"
          ]
        }
      ],
      "source": [
        "test_loss, test_accuracy = vit_model.evaluate(test_generator)\n",
        "print(f'Test Accuracy:{test_accuracy * 100:.2f}%')"
      ]
    },
    {
      "cell_type": "code",
      "source": [
        "import matplotlib.pyplot as plt\n",
        "\n",
        "# Get training history\n",
        "training_accuracy = history.history['accuracy']\n",
        "validation_accuracy = history.history['val_accuracy']\n",
        "training_loss = history.history['loss']\n",
        "validation_loss = history.history['val_loss']\n",
        "\n",
        "# Create subplots for accuracy and loss\n",
        "plt.figure(figsize=(12, 5))\n",
        "\n",
        "# Plot training and validation accuracy\n",
        "plt.subplot(1, 2, 1)\n",
        "plt.plot(range(1, epochs + 1), training_accuracy, label='Training Accuracy', marker='o')\n",
        "plt.plot(range(1, epochs + 1), validation_accuracy, label='Validation Accuracy', marker='o')\n",
        "plt.title('Training and Validation Accuracy')\n",
        "plt.xlabel('Epochs')\n",
        "plt.ylabel('Accuracy')\n",
        "plt.legend()\n",
        "\n",
        "# Plot training and validation loss\n",
        "plt.subplot(1, 2, 2)\n",
        "plt.plot(range(1, epochs + 1), training_loss, label='Training Loss', marker='o')\n",
        "plt.plot(range(1, epochs + 1), validation_loss, label='Validation Loss', marker='o')\n",
        "plt.title('Training and Validation Loss')\n",
        "plt.xlabel('Epochs')\n",
        "plt.ylabel('Loss')\n",
        "plt.legend()\n",
        "\n",
        "# Show the plots\n",
        "plt.tight_layout()\n",
        "plt.show()"
      ],
      "metadata": {
        "colab": {
          "base_uri": "https://localhost:8080/",
          "height": 417
        },
        "id": "fpejtOB2rc9Y",
        "outputId": "ef98df69-4219-48ec-8207-d2af9f19c51d"
      },
      "execution_count": 16,
      "outputs": [
        {
          "output_type": "display_data",
          "data": {
            "text/plain": [
              "<Figure size 1200x500 with 2 Axes>"
            ],
            "image/png": "[encoded data removed]"
          },
          "metadata": {}
        }
      ]
    }
  ],
  "metadata": {
    "accelerator": "GPU",
    "colab": {
      "provenance": [],
      "authorship_tag": "ABX9TyPdSjUxyEaBN6x4k/1CR2ic",
      "include_colab_link": true
    },
    "kernelspec": {
      "display_name": "Python 3",
      "name": "python3"
    },
    "language_info": {
      "name": "python"
    }
  },
  "nbformat": 4,
  "nbformat_minor": 0
}