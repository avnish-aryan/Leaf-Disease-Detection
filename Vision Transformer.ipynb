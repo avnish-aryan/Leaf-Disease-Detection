{
  "cells": [
    {
      "cell_type": "markdown",
      "metadata": {
        "id": "view-in-github",
        "colab_type": "text"
      },
      "source": [
        "<a href=\"https://colab.research.google.com/github/avnish-aryan/Leaf-Disease-Detection/blob/main/Vision%20Transformer.ipynb\" target=\"_parent\"><img src=\"https://colab.research.google.com/assets/colab-badge.svg\" alt=\"Open In Colab\"/></a>"
      ]
    },
    {
      "cell_type": "code",
      "source": [
        "!git clone https://github.com/spMohanty/PlantVillage-Dataset.git"
      ],
      "metadata": {
        "colab": {
          "base_uri": "https://localhost:8080/"
        },
        "id": "J6TAf2FKLNeC",
        "outputId": "bedbf958-ce31-47ee-b044-5e85781d74be"
      },
      "execution_count": 1,
      "outputs": [
        {
          "output_type": "stream",
          "name": "stdout",
          "text": [
            "Cloning into 'PlantVillage-Dataset'...\n",
            "remote: Enumerating objects: 163229, done.\u001b[K\n",
            "remote: Total 163229 (delta 0), reused 0 (delta 0), pack-reused 163229\u001b[K\n",
            "Receiving objects: 100% (163229/163229), 2.00 GiB | 36.20 MiB/s, done.\n",
            "Resolving deltas: 100% (99/99), done.\n",
            "Updating files: 100% (182401/182401), done.\n"
          ]
        }
      ]
    },
    {
      "cell_type": "code",
      "source": [
        "import os\n",
        "\n",
        "data_path = \"/content/PlantVillage-Dataset/raw/color\"  # Storing the path to the repository in a variable\n",
        "\n",
        "data_files = os.listdir(data_path)\n",
        "print(data_files)"
      ],
      "metadata": {
        "colab": {
          "base_uri": "https://localhost:8080/"
        },
        "id": "3701f1MXLNwv",
        "outputId": "9ff07a4e-3a91-416f-fd45-fe0adc372599"
      },
      "execution_count": 2,
      "outputs": [
        {
          "output_type": "stream",
          "name": "stdout",
          "text": [
            "['Grape___Black_rot', 'Strawberry___healthy', 'Apple___Cedar_apple_rust', 'Tomato___Tomato_mosaic_virus', 'Corn_(maize)___Northern_Leaf_Blight', 'Strawberry___Leaf_scorch', 'Potato___Late_blight', 'Tomato___healthy', 'Peach___Bacterial_spot', 'Pepper,_bell___Bacterial_spot', 'Grape___Esca_(Black_Measles)', 'Potato___Early_blight', 'Tomato___Early_blight', 'Corn_(maize)___Common_rust_', 'Grape___Leaf_blight_(Isariopsis_Leaf_Spot)', 'Orange___Haunglongbing_(Citrus_greening)', 'Tomato___Tomato_Yellow_Leaf_Curl_Virus', 'Cherry_(including_sour)___healthy', 'Tomato___Bacterial_spot', 'Tomato___Leaf_Mold', 'Corn_(maize)___healthy', 'Apple___healthy', 'Cherry_(including_sour)___Powdery_mildew', 'Blueberry___healthy', 'Soybean___healthy', 'Tomato___Late_blight', 'Raspberry___healthy', 'Potato___healthy', 'Corn_(maize)___Cercospora_leaf_spot Gray_leaf_spot', 'Apple___Apple_scab', 'Peach___healthy', 'Tomato___Spider_mites Two-spotted_spider_mite', 'Pepper,_bell___healthy', 'Tomato___Septoria_leaf_spot', 'Squash___Powdery_mildew', 'Apple___Black_rot', 'Grape___healthy', 'Tomato___Target_Spot']\n"
          ]
        }
      ]
    },
    {
      "cell_type": "code",
      "source": [
        "# Making directories for training, validation and testing sets\n",
        "\n",
        "train_dir = '/content/train_data'\n",
        "valid_dir = '/content/validation_data'\n",
        "test_dir = '/content/test_data'"
      ],
      "metadata": {
        "id": "ue1iMMAXLP1z"
      },
      "execution_count": 3,
      "outputs": []
    },
    {
      "cell_type": "code",
      "source": [
        "os.makedirs(train_dir, exist_ok=True)\n",
        "os.makedirs(valid_dir, exist_ok=True)\n",
        "os.makedirs(test_dir, exist_ok=True)"
      ],
      "metadata": {
        "id": "2r2AALwvLRNs"
      },
      "execution_count": 4,
      "outputs": []
    },
    {
      "cell_type": "code",
      "source": [
        "import os\n",
        "import shutil\n",
        "import random"
      ],
      "metadata": {
        "id": "1qd-etI1LS4_"
      },
      "execution_count": 5,
      "outputs": []
    },
    {
      "cell_type": "code",
      "source": [
        "class_folders = os.listdir(data_path)\n",
        "print(class_folders)"
      ],
      "metadata": {
        "colab": {
          "base_uri": "https://localhost:8080/"
        },
        "id": "FYBOfiXKLUil",
        "outputId": "5ed980e3-5124-421a-d10a-4f10b54a8e96"
      },
      "execution_count": 6,
      "outputs": [
        {
          "output_type": "stream",
          "name": "stdout",
          "text": [
            "['Grape___Black_rot', 'Strawberry___healthy', 'Apple___Cedar_apple_rust', 'Tomato___Tomato_mosaic_virus', 'Corn_(maize)___Northern_Leaf_Blight', 'Strawberry___Leaf_scorch', 'Potato___Late_blight', 'Tomato___healthy', 'Peach___Bacterial_spot', 'Pepper,_bell___Bacterial_spot', 'Grape___Esca_(Black_Measles)', 'Potato___Early_blight', 'Tomato___Early_blight', 'Corn_(maize)___Common_rust_', 'Grape___Leaf_blight_(Isariopsis_Leaf_Spot)', 'Orange___Haunglongbing_(Citrus_greening)', 'Tomato___Tomato_Yellow_Leaf_Curl_Virus', 'Cherry_(including_sour)___healthy', 'Tomato___Bacterial_spot', 'Tomato___Leaf_Mold', 'Corn_(maize)___healthy', 'Apple___healthy', 'Cherry_(including_sour)___Powdery_mildew', 'Blueberry___healthy', 'Soybean___healthy', 'Tomato___Late_blight', 'Raspberry___healthy', 'Potato___healthy', 'Corn_(maize)___Cercospora_leaf_spot Gray_leaf_spot', 'Apple___Apple_scab', 'Peach___healthy', 'Tomato___Spider_mites Two-spotted_spider_mite', 'Pepper,_bell___healthy', 'Tomato___Septoria_leaf_spot', 'Squash___Powdery_mildew', 'Apple___Black_rot', 'Grape___healthy', 'Tomato___Target_Spot']\n"
          ]
        }
      ]
    },
    {
      "cell_type": "code",
      "source": [
        "# Using a data loader to split data\n",
        "\n",
        "train_split = 0.8\n",
        "valid_split = 0.1\n",
        "test_split = 0.1\n",
        "\n",
        "for class_folder in class_folders:\n",
        "    class_path = os.path.join(data_path, class_folder)\n",
        "    if os.path.isdir(class_path):\n",
        "        images = os.listdir(class_path)\n",
        "        random.shuffle(images)\n",
        "\n",
        "        num_images = len(images)\n",
        "        num_train = int(train_split * num_images)\n",
        "        num_valid = int(valid_split * num_images)\n",
        "\n",
        "        train_images = images[:num_train]\n",
        "        valid_images = images[num_train:num_train + num_valid]\n",
        "        test_images = images[num_train + num_valid:]\n",
        "\n",
        "        train_class_dir = os.path.join(train_dir, class_folder)\n",
        "        valid_class_dir = os.path.join(valid_dir, class_folder)\n",
        "        test_class_dir = os.path.join(test_dir, class_folder)\n",
        "\n",
        "        os.makedirs(train_class_dir, exist_ok=True)\n",
        "        os.makedirs(valid_class_dir, exist_ok=True)\n",
        "        os.makedirs(test_class_dir, exist_ok=True)\n",
        "\n",
        "        for image in train_images:\n",
        "            src = os.path.join(class_path, image)\n",
        "            dst = os.path.join(train_class_dir, image)\n",
        "            shutil.copy(src, dst)\n",
        "\n",
        "        for image in valid_images:\n",
        "            src = os.path.join(class_path, image)\n",
        "            dst = os.path.join(valid_class_dir, image)\n",
        "            shutil.copy(src, dst)\n",
        "\n",
        "        for image in test_images:\n",
        "            src = os.path.join(class_path, image)\n",
        "            dst = os.path.join(test_class_dir, image)\n",
        "            shutil.copy(src, dst)\n",
        "\n",
        "print(\"Dataset split into train, validation, and test sets.\")"
      ],
      "metadata": {
        "colab": {
          "base_uri": "https://localhost:8080/"
        },
        "id": "cqiEFND1LV7y",
        "outputId": "8d67a02c-8e87-4e12-b369-b1cec2b37d9d"
      },
      "execution_count": 7,
      "outputs": [
        {
          "output_type": "stream",
          "name": "stdout",
          "text": [
            "Dataset split into train, validation, and test sets.\n"
          ]
        }
      ]
    },
    {
      "cell_type": "code",
      "source": [
        "from tensorflow.keras.preprocessing.image import ImageDataGenerator\n",
        "\n",
        "image_size = (120, 120)\n",
        "batch_size = 32\n",
        "\n",
        "# Creating a data generator for training, validation and testing data\n",
        "train_datagen = ImageDataGenerator(\n",
        "    rescale=1.0/255,\n",
        "    rotation_range=20,\n",
        "    width_shift_range=0.2,\n",
        "    height_shift_range=0.2,\n",
        "    horizontal_flip=True\n",
        ")\n",
        "\n",
        "train_generator = train_datagen.flow_from_directory(\n",
        "    train_dir,\n",
        "    target_size=image_size,\n",
        "    batch_size=batch_size,\n",
        "    class_mode='categorical'\n",
        ")\n",
        "\n",
        "\n",
        "valid_datagen = ImageDataGenerator(rescale=1.0/255)\n",
        "\n",
        "\n",
        "valid_generator = valid_datagen.flow_from_directory(\n",
        "    valid_dir,\n",
        "    target_size=image_size,\n",
        "    batch_size=batch_size,\n",
        "    class_mode='categorical'\n",
        ")\n",
        "\n",
        "test_datagen = ImageDataGenerator(rescale=1.0/255)\n",
        "\n",
        "test_generator = test_datagen.flow_from_directory(\n",
        "    test_dir,\n",
        "    target_size=image_size,\n",
        "    batch_size=batch_size,\n",
        "    class_mode='categorical'\n",
        ")"
      ],
      "metadata": {
        "colab": {
          "base_uri": "https://localhost:8080/"
        },
        "id": "EYE2kSnLLYXu",
        "outputId": "ceb3103d-65a2-4cc0-b0b6-c971ea1d6863"
      },
      "execution_count": 8,
      "outputs": [
        {
          "output_type": "stream",
          "name": "stdout",
          "text": [
            "Found 43429 images belonging to 38 classes.\n",
            "Found 5417 images belonging to 38 classes.\n",
            "Found 5459 images belonging to 38 classes.\n"
          ]
        }
      ]
    },
    {
      "cell_type": "code",
      "source": [
        "input_shape = (120,120,3)\n",
        "num_classes = 38"
      ],
      "metadata": {
        "id": "sOuU52NtLZ8g"
      },
      "execution_count": 9,
      "outputs": []
    },
    {
      "cell_type": "code",
      "source": [
        "import tensorflow as tf\n",
        "from tensorflow import keras\n",
        "from tensorflow.keras import layers\n",
        "from tensorflow.keras.preprocessing.image import ImageDataGenerator"
      ],
      "metadata": {
        "id": "NrueVyvPLbl2"
      },
      "execution_count": 10,
      "outputs": []
    },
    {
      "cell_type": "code",
      "source": [
        "import tensorflow as tf\n",
        "from tensorflow import keras\n",
        "from tensorflow.keras import layers\n",
        "\n",
        "# Model Architecture\n",
        "\n",
        "def create_vit_model(input_shape, num_classes):\n",
        "    inputs = keras.Input(shape=input_shape)\n",
        "    patch_size = 16\n",
        "    num_patches = (input_shape[0] // patch_size) * (input_shape[1] // patch_size)\n",
        "    embedding_dim = 256\n",
        "    num_heads = 4\n",
        "    mlp_dim = 512\n",
        "    num_layers = 6\n",
        "\n",
        "    # Patch embedding layer\n",
        "    x = layers.Conv2D(embedding_dim, kernel_size=patch_size, strides=patch_size, padding=\"valid\")(inputs)\n",
        "    x = layers.Reshape((num_patches, embedding_dim))(x)\n",
        "\n",
        "    # Positional embedding\n",
        "    positions = keras.layers.Embedding(input_dim=num_patches, output_dim=embedding_dim)(tf.range(num_patches))\n",
        "    x = x + positions\n",
        "\n",
        "    # Transformer encoder layers\n",
        "    for _ in range(num_layers):\n",
        "        # Multi-head self-attention\n",
        "        y = layers.MultiHeadAttention(num_heads=num_heads, key_dim=embedding_dim // num_heads)(x, x)\n",
        "        y = layers.Dropout(0.1)(y)\n",
        "        x = layers.LayerNormalization(epsilon=1e-6)(x + y)\n",
        "\n",
        "        # Feed-forward MLP\n",
        "        y = layers.Conv1D(filters=mlp_dim, kernel_size=1, activation=\"gelu\")(x)\n",
        "        y = layers.Conv1D(filters=embedding_dim, kernel_size=1)(y)\n",
        "        y = layers.Dropout(0.1)(y)\n",
        "        x = layers.LayerNormalization(epsilon=1e-6)(x + y)\n",
        "\n",
        "    # Global average pooling and classification head\n",
        "    x = layers.GlobalAveragePooling1D()(x)\n",
        "    x = layers.Dense(embedding_dim, activation=\"relu\")(x)\n",
        "    outputs = layers.Dense(num_classes, activation=\"softmax\")(x)\n",
        "\n",
        "    model = keras.Model(inputs, outputs)\n",
        "    return model\n",
        "\n",
        "input_shape = (120, 120, 3)\n",
        "num_classes = 38\n",
        "\n",
        "vit_model = create_vit_model(input_shape, num_classes)\n",
        "\n",
        "vit_model.compile(\n",
        "    optimizer=tf.keras.optimizers.Adam(learning_rate=0.0001),\n",
        "    loss='categorical_crossentropy',\n",
        "    metrics=['accuracy'],\n",
        ")\n",
        "\n",
        "vit_model.summary()\n"
      ],
      "metadata": {
        "colab": {
          "base_uri": "https://localhost:8080/"
        },
        "id": "iAvtXM9GLc8N",
        "outputId": "cd865cbe-3794-43fd-94f5-acf281518487"
      },
      "execution_count": 11,
      "outputs": [
        {
          "output_type": "stream",
          "name": "stdout",
          "text": [
            "Model: \"model\"\n",
            "__________________________________________________________________________________________________\n",
            " Layer (type)                   Output Shape         Param #     Connected to                     \n",
            "==================================================================================================\n",
            " input_1 (InputLayer)           [(None, 120, 120, 3  0           []                               \n",
            "                                )]                                                                \n",
            "                                                                                                  \n",
            " conv2d (Conv2D)                (None, 7, 7, 256)    196864      ['input_1[0][0]']                \n",
            "                                                                                                  \n",
            " reshape (Reshape)              (None, 49, 256)      0           ['conv2d[0][0]']                 \n",
            "                                                                                                  \n",
            " tf.__operators__.add (TFOpLamb  (None, 49, 256)     0           ['reshape[0][0]']                \n",
            " da)                                                                                              \n",
            "                                                                                                  \n",
            " multi_head_attention (MultiHea  (None, 49, 256)     263168      ['tf.__operators__.add[0][0]',   \n",
            " dAttention)                                                      'tf.__operators__.add[0][0]']   \n",
            "                                                                                                  \n",
            " dropout (Dropout)              (None, 49, 256)      0           ['multi_head_attention[0][0]']   \n",
            "                                                                                                  \n",
            " tf.__operators__.add_1 (TFOpLa  (None, 49, 256)     0           ['tf.__operators__.add[0][0]',   \n",
            " mbda)                                                            'dropout[0][0]']                \n",
            "                                                                                                  \n",
            " layer_normalization (LayerNorm  (None, 49, 256)     512         ['tf.__operators__.add_1[0][0]'] \n",
            " alization)                                                                                       \n",
            "                                                                                                  \n",
            " conv1d (Conv1D)                (None, 49, 512)      131584      ['layer_normalization[0][0]']    \n",
            "                                                                                                  \n",
            " conv1d_1 (Conv1D)              (None, 49, 256)      131328      ['conv1d[0][0]']                 \n",
            "                                                                                                  \n",
            " dropout_1 (Dropout)            (None, 49, 256)      0           ['conv1d_1[0][0]']               \n",
            "                                                                                                  \n",
            " tf.__operators__.add_2 (TFOpLa  (None, 49, 256)     0           ['layer_normalization[0][0]',    \n",
            " mbda)                                                            'dropout_1[0][0]']              \n",
            "                                                                                                  \n",
            " layer_normalization_1 (LayerNo  (None, 49, 256)     512         ['tf.__operators__.add_2[0][0]'] \n",
            " rmalization)                                                                                     \n",
            "                                                                                                  \n",
            " multi_head_attention_1 (MultiH  (None, 49, 256)     263168      ['layer_normalization_1[0][0]',  \n",
            " eadAttention)                                                    'layer_normalization_1[0][0]']  \n",
            "                                                                                                  \n",
            " dropout_2 (Dropout)            (None, 49, 256)      0           ['multi_head_attention_1[0][0]'] \n",
            "                                                                                                  \n",
            " tf.__operators__.add_3 (TFOpLa  (None, 49, 256)     0           ['layer_normalization_1[0][0]',  \n",
            " mbda)                                                            'dropout_2[0][0]']              \n",
            "                                                                                                  \n",
            " layer_normalization_2 (LayerNo  (None, 49, 256)     512         ['tf.__operators__.add_3[0][0]'] \n",
            " rmalization)                                                                                     \n",
            "                                                                                                  \n",
            " conv1d_2 (Conv1D)              (None, 49, 512)      131584      ['layer_normalization_2[0][0]']  \n",
            "                                                                                                  \n",
            " conv1d_3 (Conv1D)              (None, 49, 256)      131328      ['conv1d_2[0][0]']               \n",
            "                                                                                                  \n",
            " dropout_3 (Dropout)            (None, 49, 256)      0           ['conv1d_3[0][0]']               \n",
            "                                                                                                  \n",
            " tf.__operators__.add_4 (TFOpLa  (None, 49, 256)     0           ['layer_normalization_2[0][0]',  \n",
            " mbda)                                                            'dropout_3[0][0]']              \n",
            "                                                                                                  \n",
            " layer_normalization_3 (LayerNo  (None, 49, 256)     512         ['tf.__operators__.add_4[0][0]'] \n",
            " rmalization)                                                                                     \n",
            "                                                                                                  \n",
            " multi_head_attention_2 (MultiH  (None, 49, 256)     263168      ['layer_normalization_3[0][0]',  \n",
            " eadAttention)                                                    'layer_normalization_3[0][0]']  \n",
            "                                                                                                  \n",
            " dropout_4 (Dropout)            (None, 49, 256)      0           ['multi_head_attention_2[0][0]'] \n",
            "                                                                                                  \n",
            " tf.__operators__.add_5 (TFOpLa  (None, 49, 256)     0           ['layer_normalization_3[0][0]',  \n",
            " mbda)                                                            'dropout_4[0][0]']              \n",
            "                                                                                                  \n",
            " layer_normalization_4 (LayerNo  (None, 49, 256)     512         ['tf.__operators__.add_5[0][0]'] \n",
            " rmalization)                                                                                     \n",
            "                                                                                                  \n",
            " conv1d_4 (Conv1D)              (None, 49, 512)      131584      ['layer_normalization_4[0][0]']  \n",
            "                                                                                                  \n",
            " conv1d_5 (Conv1D)              (None, 49, 256)      131328      ['conv1d_4[0][0]']               \n",
            "                                                                                                  \n",
            " dropout_5 (Dropout)            (None, 49, 256)      0           ['conv1d_5[0][0]']               \n",
            "                                                                                                  \n",
            " tf.__operators__.add_6 (TFOpLa  (None, 49, 256)     0           ['layer_normalization_4[0][0]',  \n",
            " mbda)                                                            'dropout_5[0][0]']              \n",
            "                                                                                                  \n",
            " layer_normalization_5 (LayerNo  (None, 49, 256)     512         ['tf.__operators__.add_6[0][0]'] \n",
            " rmalization)                                                                                     \n",
            "                                                                                                  \n",
            " multi_head_attention_3 (MultiH  (None, 49, 256)     263168      ['layer_normalization_5[0][0]',  \n",
            " eadAttention)                                                    'layer_normalization_5[0][0]']  \n",
            "                                                                                                  \n",
            " dropout_6 (Dropout)            (None, 49, 256)      0           ['multi_head_attention_3[0][0]'] \n",
            "                                                                                                  \n",
            " tf.__operators__.add_7 (TFOpLa  (None, 49, 256)     0           ['layer_normalization_5[0][0]',  \n",
            " mbda)                                                            'dropout_6[0][0]']              \n",
            "                                                                                                  \n",
            " layer_normalization_6 (LayerNo  (None, 49, 256)     512         ['tf.__operators__.add_7[0][0]'] \n",
            " rmalization)                                                                                     \n",
            "                                                                                                  \n",
            " conv1d_6 (Conv1D)              (None, 49, 512)      131584      ['layer_normalization_6[0][0]']  \n",
            "                                                                                                  \n",
            " conv1d_7 (Conv1D)              (None, 49, 256)      131328      ['conv1d_6[0][0]']               \n",
            "                                                                                                  \n",
            " dropout_7 (Dropout)            (None, 49, 256)      0           ['conv1d_7[0][0]']               \n",
            "                                                                                                  \n",
            " tf.__operators__.add_8 (TFOpLa  (None, 49, 256)     0           ['layer_normalization_6[0][0]',  \n",
            " mbda)                                                            'dropout_7[0][0]']              \n",
            "                                                                                                  \n",
            " layer_normalization_7 (LayerNo  (None, 49, 256)     512         ['tf.__operators__.add_8[0][0]'] \n",
            " rmalization)                                                                                     \n",
            "                                                                                                  \n",
            " multi_head_attention_4 (MultiH  (None, 49, 256)     263168      ['layer_normalization_7[0][0]',  \n",
            " eadAttention)                                                    'layer_normalization_7[0][0]']  \n",
            "                                                                                                  \n",
            " dropout_8 (Dropout)            (None, 49, 256)      0           ['multi_head_attention_4[0][0]'] \n",
            "                                                                                                  \n",
            " tf.__operators__.add_9 (TFOpLa  (None, 49, 256)     0           ['layer_normalization_7[0][0]',  \n",
            " mbda)                                                            'dropout_8[0][0]']              \n",
            "                                                                                                  \n",
            " layer_normalization_8 (LayerNo  (None, 49, 256)     512         ['tf.__operators__.add_9[0][0]'] \n",
            " rmalization)                                                                                     \n",
            "                                                                                                  \n",
            " conv1d_8 (Conv1D)              (None, 49, 512)      131584      ['layer_normalization_8[0][0]']  \n",
            "                                                                                                  \n",
            " conv1d_9 (Conv1D)              (None, 49, 256)      131328      ['conv1d_8[0][0]']               \n",
            "                                                                                                  \n",
            " dropout_9 (Dropout)            (None, 49, 256)      0           ['conv1d_9[0][0]']               \n",
            "                                                                                                  \n",
            " tf.__operators__.add_10 (TFOpL  (None, 49, 256)     0           ['layer_normalization_8[0][0]',  \n",
            " ambda)                                                           'dropout_9[0][0]']              \n",
            "                                                                                                  \n",
            " layer_normalization_9 (LayerNo  (None, 49, 256)     512         ['tf.__operators__.add_10[0][0]']\n",
            " rmalization)                                                                                     \n",
            "                                                                                                  \n",
            " multi_head_attention_5 (MultiH  (None, 49, 256)     263168      ['layer_normalization_9[0][0]',  \n",
            " eadAttention)                                                    'layer_normalization_9[0][0]']  \n",
            "                                                                                                  \n",
            " dropout_10 (Dropout)           (None, 49, 256)      0           ['multi_head_attention_5[0][0]'] \n",
            "                                                                                                  \n",
            " tf.__operators__.add_11 (TFOpL  (None, 49, 256)     0           ['layer_normalization_9[0][0]',  \n",
            " ambda)                                                           'dropout_10[0][0]']             \n",
            "                                                                                                  \n",
            " layer_normalization_10 (LayerN  (None, 49, 256)     512         ['tf.__operators__.add_11[0][0]']\n",
            " ormalization)                                                                                    \n",
            "                                                                                                  \n",
            " conv1d_10 (Conv1D)             (None, 49, 512)      131584      ['layer_normalization_10[0][0]'] \n",
            "                                                                                                  \n",
            " conv1d_11 (Conv1D)             (None, 49, 256)      131328      ['conv1d_10[0][0]']              \n",
            "                                                                                                  \n",
            " dropout_11 (Dropout)           (None, 49, 256)      0           ['conv1d_11[0][0]']              \n",
            "                                                                                                  \n",
            " tf.__operators__.add_12 (TFOpL  (None, 49, 256)     0           ['layer_normalization_10[0][0]', \n",
            " ambda)                                                           'dropout_11[0][0]']             \n",
            "                                                                                                  \n",
            " layer_normalization_11 (LayerN  (None, 49, 256)     512         ['tf.__operators__.add_12[0][0]']\n",
            " ormalization)                                                                                    \n",
            "                                                                                                  \n",
            " global_average_pooling1d (Glob  (None, 256)         0           ['layer_normalization_11[0][0]'] \n",
            " alAveragePooling1D)                                                                              \n",
            "                                                                                                  \n",
            " dense (Dense)                  (None, 256)          65792       ['global_average_pooling1d[0][0]'\n",
            "                                                                 ]                                \n",
            "                                                                                                  \n",
            " dense_1 (Dense)                (None, 38)           9766        ['dense[0][0]']                  \n",
            "                                                                                                  \n",
            "==================================================================================================\n",
            "Total params: 3,435,046\n",
            "Trainable params: 3,435,046\n",
            "Non-trainable params: 0\n",
            "__________________________________________________________________________________________________\n"
          ]
        }
      ]
    },
    {
      "cell_type": "code",
      "source": [
        "epochs = 40\n",
        "steps_per_epoch = len(train_generator)\n",
        "validation_steps = len(valid_generator)\n",
        "\n",
        "history = vit_model.fit(\n",
        "    train_generator,\n",
        "    epochs=epochs,\n",
        "    steps_per_epoch=steps_per_epoch,\n",
        "    validation_data=valid_generator,\n",
        "    validation_steps=validation_steps,\n",
        ")"
      ],
      "metadata": {
        "colab": {
          "base_uri": "https://localhost:8080/"
        },
        "id": "jsnYoMuyLeVN",
        "outputId": "04e8ec3e-1934-4cc8-8191-1ba7750f4a83"
      },
      "execution_count": 12,
      "outputs": [
        {
          "output_type": "stream",
          "name": "stdout",
          "text": [
            "Epoch 1/40\n",
            "1358/1358 [==============================] - 250s 160ms/step - loss: 1.9770 - accuracy: 0.4453 - val_loss: 1.0735 - val_accuracy: 0.6677\n",
            "Epoch 2/40\n",
            "1358/1358 [==============================] - 215s 159ms/step - loss: 0.8582 - accuracy: 0.7375 - val_loss: 0.5844 - val_accuracy: 0.8145\n",
            "Epoch 3/40\n",
            "1358/1358 [==============================] - 211s 155ms/step - loss: 0.6138 - accuracy: 0.8079 - val_loss: 0.5093 - val_accuracy: 0.8355\n",
            "Epoch 4/40\n",
            "1358/1358 [==============================] - 211s 155ms/step - loss: 0.5059 - accuracy: 0.8391 - val_loss: 0.4163 - val_accuracy: 0.8665\n",
            "Epoch 5/40\n",
            "1358/1358 [==============================] - 213s 157ms/step - loss: 0.4210 - accuracy: 0.8648 - val_loss: 0.3358 - val_accuracy: 0.8874\n",
            "Epoch 6/40\n",
            "1358/1358 [==============================] - 215s 158ms/step - loss: 0.3685 - accuracy: 0.8800 - val_loss: 0.2767 - val_accuracy: 0.9066\n",
            "Epoch 7/40\n",
            "1358/1358 [==============================] - 213s 157ms/step - loss: 0.3316 - accuracy: 0.8908 - val_loss: 0.2933 - val_accuracy: 0.9071\n",
            "Epoch 8/40\n",
            "1358/1358 [==============================] - 212s 156ms/step - loss: 0.2998 - accuracy: 0.9012 - val_loss: 0.2265 - val_accuracy: 0.9282\n",
            "Epoch 9/40\n",
            "1358/1358 [==============================] - 218s 161ms/step - loss: 0.2750 - accuracy: 0.9084 - val_loss: 0.2161 - val_accuracy: 0.9304\n",
            "Epoch 10/40\n",
            "1358/1358 [==============================] - 213s 156ms/step - loss: 0.2531 - accuracy: 0.9166 - val_loss: 0.3175 - val_accuracy: 0.8872\n",
            "Epoch 11/40\n",
            "1358/1358 [==============================] - 213s 156ms/step - loss: 0.2363 - accuracy: 0.9202 - val_loss: 0.1993 - val_accuracy: 0.9341\n",
            "Epoch 12/40\n",
            "1358/1358 [==============================] - 213s 157ms/step - loss: 0.2233 - accuracy: 0.9249 - val_loss: 0.1695 - val_accuracy: 0.9424\n",
            "Epoch 13/40\n",
            "1358/1358 [==============================] - 212s 156ms/step - loss: 0.2036 - accuracy: 0.9326 - val_loss: 0.1866 - val_accuracy: 0.9348\n",
            "Epoch 14/40\n",
            "1358/1358 [==============================] - 215s 158ms/step - loss: 0.1961 - accuracy: 0.9332 - val_loss: 0.1605 - val_accuracy: 0.9448\n",
            "Epoch 15/40\n",
            "1358/1358 [==============================] - 211s 155ms/step - loss: 0.1888 - accuracy: 0.9373 - val_loss: 0.1521 - val_accuracy: 0.9474\n",
            "Epoch 16/40\n",
            "1358/1358 [==============================] - 210s 155ms/step - loss: 0.1758 - accuracy: 0.9409 - val_loss: 0.1441 - val_accuracy: 0.9516\n",
            "Epoch 17/40\n",
            "1358/1358 [==============================] - 214s 157ms/step - loss: 0.1665 - accuracy: 0.9438 - val_loss: 0.1368 - val_accuracy: 0.9535\n",
            "Epoch 18/40\n",
            "1358/1358 [==============================] - 219s 161ms/step - loss: 0.1619 - accuracy: 0.9446 - val_loss: 0.1998 - val_accuracy: 0.9319\n",
            "Epoch 19/40\n",
            "1358/1358 [==============================] - 217s 160ms/step - loss: 0.1544 - accuracy: 0.9476 - val_loss: 0.1321 - val_accuracy: 0.9559\n",
            "Epoch 20/40\n",
            "1358/1358 [==============================] - 216s 159ms/step - loss: 0.1428 - accuracy: 0.9519 - val_loss: 0.1378 - val_accuracy: 0.9540\n",
            "Epoch 21/40\n",
            "1358/1358 [==============================] - 211s 155ms/step - loss: 0.1397 - accuracy: 0.9540 - val_loss: 0.1191 - val_accuracy: 0.9603\n",
            "Epoch 22/40\n",
            "1358/1358 [==============================] - 211s 156ms/step - loss: 0.1387 - accuracy: 0.9518 - val_loss: 0.1543 - val_accuracy: 0.9442\n",
            "Epoch 23/40\n",
            "1358/1358 [==============================] - 212s 156ms/step - loss: 0.1331 - accuracy: 0.9539 - val_loss: 0.1262 - val_accuracy: 0.9596\n",
            "Epoch 24/40\n",
            "1358/1358 [==============================] - 212s 156ms/step - loss: 0.1279 - accuracy: 0.9555 - val_loss: 0.1169 - val_accuracy: 0.9585\n",
            "Epoch 25/40\n",
            "1358/1358 [==============================] - 212s 156ms/step - loss: 0.1197 - accuracy: 0.9590 - val_loss: 0.1663 - val_accuracy: 0.9452\n",
            "Epoch 26/40\n",
            "1358/1358 [==============================] - 211s 155ms/step - loss: 0.1162 - accuracy: 0.9596 - val_loss: 0.1098 - val_accuracy: 0.9622\n",
            "Epoch 27/40\n",
            "1358/1358 [==============================] - 211s 156ms/step - loss: 0.1150 - accuracy: 0.9611 - val_loss: 0.0986 - val_accuracy: 0.9646\n",
            "Epoch 28/40\n",
            "1358/1358 [==============================] - 220s 162ms/step - loss: 0.1171 - accuracy: 0.9598 - val_loss: 0.1123 - val_accuracy: 0.9629\n",
            "Epoch 29/40\n",
            "1358/1358 [==============================] - 213s 157ms/step - loss: 0.1043 - accuracy: 0.9642 - val_loss: 0.1195 - val_accuracy: 0.9581\n",
            "Epoch 30/40\n",
            "1358/1358 [==============================] - 217s 160ms/step - loss: 0.1035 - accuracy: 0.9644 - val_loss: 0.1284 - val_accuracy: 0.9561\n",
            "Epoch 31/40\n",
            "1358/1358 [==============================] - 212s 156ms/step - loss: 0.0998 - accuracy: 0.9657 - val_loss: 0.1058 - val_accuracy: 0.9627\n",
            "Epoch 32/40\n",
            "1358/1358 [==============================] - 216s 159ms/step - loss: 0.0971 - accuracy: 0.9668 - val_loss: 0.1292 - val_accuracy: 0.9572\n",
            "Epoch 33/40\n",
            "1358/1358 [==============================] - 216s 159ms/step - loss: 0.0974 - accuracy: 0.9663 - val_loss: 0.0922 - val_accuracy: 0.9682\n",
            "Epoch 34/40\n",
            "1358/1358 [==============================] - 227s 167ms/step - loss: 0.0912 - accuracy: 0.9683 - val_loss: 0.1102 - val_accuracy: 0.9651\n",
            "Epoch 35/40\n",
            "1358/1358 [==============================] - 221s 163ms/step - loss: 0.0929 - accuracy: 0.9684 - val_loss: 0.0705 - val_accuracy: 0.9743\n",
            "Epoch 36/40\n",
            "1358/1358 [==============================] - 221s 163ms/step - loss: 0.0865 - accuracy: 0.9702 - val_loss: 0.1109 - val_accuracy: 0.9614\n",
            "Epoch 37/40\n",
            "1358/1358 [==============================] - 217s 160ms/step - loss: 0.0844 - accuracy: 0.9704 - val_loss: 0.1486 - val_accuracy: 0.9500\n",
            "Epoch 38/40\n",
            "1358/1358 [==============================] - 216s 159ms/step - loss: 0.0805 - accuracy: 0.9724 - val_loss: 0.0813 - val_accuracy: 0.9712\n",
            "Epoch 39/40\n",
            "1358/1358 [==============================] - 217s 160ms/step - loss: 0.0837 - accuracy: 0.9711 - val_loss: 0.0904 - val_accuracy: 0.9679\n",
            "Epoch 40/40\n",
            "1358/1358 [==============================] - 213s 157ms/step - loss: 0.0829 - accuracy: 0.9721 - val_loss: 0.1226 - val_accuracy: 0.9586\n"
          ]
        }
      ]
    },
    {
      "cell_type": "code",
      "source": [
        "test_loss, test_accuracy = vit_model.evaluate(test_generator)\n",
        "print(f'Test Accuracy:{test_accuracy * 100:.2f}%')"
      ],
      "metadata": {
        "colab": {
          "base_uri": "https://localhost:8080/"
        },
        "id": "3ciJNrqjLimU",
        "outputId": "a3de60a6-a21e-45fb-875f-1aa488589d0e"
      },
      "execution_count": 13,
      "outputs": [
        {
          "output_type": "stream",
          "name": "stdout",
          "text": [
            "171/171 [==============================] - 7s 41ms/step - loss: 0.1302 - accuracy: 0.9602\n",
            "Test Accuracy:96.02%\n"
          ]
        }
      ]
    },
    {
      "cell_type": "code",
      "source": [
        "import matplotlib.pyplot as plt\n",
        "\n",
        "training_accuracy = history.history['accuracy']\n",
        "validation_accuracy = history.history['val_accuracy']\n",
        "training_loss = history.history['loss']\n",
        "validation_loss = history.history['val_loss']\n",
        "\n",
        "plt.figure(figsize=(12, 5))\n",
        "\n",
        "plt.subplot(1, 2, 1)\n",
        "plt.plot(range(1, epochs + 1), training_accuracy, label='Training Accuracy', marker='o')\n",
        "plt.plot(range(1, epochs + 1), validation_accuracy, label='Validation Accuracy', marker='o')\n",
        "plt.title('Training and Validation Accuracy')\n",
        "plt.xlabel('Epochs')\n",
        "plt.ylabel('Accuracy')\n",
        "plt.legend()\n",
        "\n",
        "plt.subplot(1, 2, 2)\n",
        "plt.plot(range(1, epochs + 1), training_loss, label='Training Loss', marker='o')\n",
        "plt.plot(range(1, epochs + 1), validation_loss, label='Validation Loss', marker='o')\n",
        "plt.title('Training and Validation Loss')\n",
        "plt.xlabel('Epochs')\n",
        "plt.ylabel('Loss')\n",
        "plt.legend()\n",
        "\n",
        "plt.tight_layout()\n",
        "plt.show()\n"
      ],
      "metadata": {
        "colab": {
          "base_uri": "https://localhost:8080/",
          "height": 507
        },
        "id": "0uRQ-7MlLzp5",
        "outputId": "0117409b-643b-489b-beb0-3078ac35f9aa"
      },
      "execution_count": 14,
      "outputs": [
        {
          "output_type": "display_data",
          "data": {
            "text/plain": [
              "<Figure size 1200x500 with 2 Axes>"
            ],
            "image/png": "[encoded data removed]"
          },
          "metadata": {}
        }
      ]
    },
    {
      "cell_type": "code",
      "source": [],
      "metadata": {
        "id": "LZjNRxD6u-dN"
      },
      "execution_count": null,
      "outputs": []
    }
  ],
  "metadata": {
    "accelerator": "GPU",
    "colab": {
      "provenance": [],
      "authorship_tag": "ABX9TyML9XE3Yguzhmit35f9PR8C",
      "include_colab_link": true
    },
    "kernelspec": {
      "display_name": "Python 3",
      "name": "python3"
    },
    "language_info": {
      "name": "python"
    }
  },
  "nbformat": 4,
  "nbformat_minor": 0
}