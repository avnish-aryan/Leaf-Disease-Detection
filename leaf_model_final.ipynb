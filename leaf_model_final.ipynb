{
  "nbformat": 4,
  "nbformat_minor": 0,
  "metadata": {
    "colab": {
      "provenance": [],
      "gpuType": "T4",
      "include_colab_link": true
    },
    "kernelspec": {
      "name": "python3",
      "display_name": "Python 3"
    },
    "language_info": {
      "name": "python"
    },
    "accelerator": "GPU"
  },
  "cells": [
    {
      "cell_type": "markdown",
      "metadata": {
        "id": "view-in-github",
        "colab_type": "text"
      },
      "source": [
        "<a href=\"https://colab.research.google.com/github/avnish-aryan/Leaf-Disease-Detection/blob/main/leaf_model_final.ipynb\" target=\"_parent\"><img src=\"https://colab.research.google.com/assets/colab-badge.svg\" alt=\"Open In Colab\"/></a>"
      ]
    },
    {
      "cell_type": "code",
      "execution_count": null,
      "metadata": {
        "id": "BXqIqZDp2wg1",
        "colab": {
          "base_uri": "https://localhost:8080/"
        },
        "outputId": "b153c7d1-6fa7-4578-dd70-74ba3c1abd66"
      },
      "outputs": [
        {
          "output_type": "stream",
          "name": "stdout",
          "text": [
            "Cloning into 'PlantVillage-Dataset'...\n",
            "remote: Enumerating objects: 163229, done.\u001b[K\n",
            "remote: Total 163229 (delta 0), reused 0 (delta 0), pack-reused 163229\u001b[K\n",
            "Receiving objects: 100% (163229/163229), 2.00 GiB | 33.09 MiB/s, done.\n",
            "Resolving deltas: 100% (99/99), done.\n",
            "Updating files: 100% (182401/182401), done.\n"
          ]
        }
      ],
      "source": [
        "!git clone https://github.com/spMohanty/PlantVillage-Dataset.git"
      ]
    },
    {
      "cell_type": "code",
      "source": [
        "import os\n",
        "\n",
        "data_path = \"/content/PlantVillage-Dataset/raw/color\"  # Storing the path to the repository in a variable\n",
        "\n",
        "data_files = os.listdir(data_path)\n",
        "print(data_files)"
      ],
      "metadata": {
        "colab": {
          "base_uri": "https://localhost:8080/"
        },
        "id": "GhOiDKyBCjC0",
        "outputId": "e7756632-0c4c-4406-91b4-02349a69e055"
      },
      "execution_count": null,
      "outputs": [
        {
          "output_type": "stream",
          "name": "stdout",
          "text": [
            "['Grape___Esca_(Black_Measles)', 'Grape___Leaf_blight_(Isariopsis_Leaf_Spot)', 'Cherry_(including_sour)___healthy', 'Squash___Powdery_mildew', 'Corn_(maize)___Northern_Leaf_Blight', 'Potato___Late_blight', 'Tomato___Spider_mites Two-spotted_spider_mite', 'Corn_(maize)___healthy', 'Raspberry___healthy', 'Tomato___Early_blight', 'Pepper,_bell___healthy', 'Corn_(maize)___Common_rust_', 'Tomato___Target_Spot', 'Apple___Apple_scab', 'Tomato___healthy', 'Apple___healthy', 'Tomato___Septoria_leaf_spot', 'Apple___Black_rot', 'Peach___healthy', 'Strawberry___healthy', 'Potato___Early_blight', 'Pepper,_bell___Bacterial_spot', 'Apple___Cedar_apple_rust', 'Strawberry___Leaf_scorch', 'Tomato___Tomato_Yellow_Leaf_Curl_Virus', 'Cherry_(including_sour)___Powdery_mildew', 'Soybean___healthy', 'Grape___healthy', 'Tomato___Bacterial_spot', 'Orange___Haunglongbing_(Citrus_greening)', 'Grape___Black_rot', 'Tomato___Tomato_mosaic_virus', 'Potato___healthy', 'Corn_(maize)___Cercospora_leaf_spot Gray_leaf_spot', 'Blueberry___healthy', 'Tomato___Leaf_Mold', 'Tomato___Late_blight', 'Peach___Bacterial_spot']\n"
          ]
        }
      ]
    },
    {
      "cell_type": "code",
      "source": [
        "# Making directories for training, validation and testing sets\n",
        "\n",
        "train_dir = '/content/train_data'\n",
        "valid_dir = '/content/validation_data'\n",
        "test_dir = '/content/test_data'"
      ],
      "metadata": {
        "id": "I3hDvrGEDBlV"
      },
      "execution_count": null,
      "outputs": []
    },
    {
      "cell_type": "code",
      "source": [
        "os.makedirs(train_dir, exist_ok=True)\n",
        "os.makedirs(valid_dir, exist_ok=True)\n",
        "os.makedirs(test_dir, exist_ok=True)"
      ],
      "metadata": {
        "id": "sw8tAYN0Dvis"
      },
      "execution_count": null,
      "outputs": []
    },
    {
      "cell_type": "code",
      "source": [
        "import os\n",
        "import shutil\n",
        "import random"
      ],
      "metadata": {
        "id": "_HvPHxMBDzGF"
      },
      "execution_count": null,
      "outputs": []
    },
    {
      "cell_type": "code",
      "source": [
        "class_folders = os.listdir(data_path)\n",
        "print(class_folders)"
      ],
      "metadata": {
        "colab": {
          "base_uri": "https://localhost:8080/"
        },
        "id": "RTqmlgnqD8vR",
        "outputId": "881a03d6-f972-4cb5-9e77-9da7b500b887"
      },
      "execution_count": null,
      "outputs": [
        {
          "output_type": "stream",
          "name": "stdout",
          "text": [
            "['Grape___Esca_(Black_Measles)', 'Grape___Leaf_blight_(Isariopsis_Leaf_Spot)', 'Cherry_(including_sour)___healthy', 'Squash___Powdery_mildew', 'Corn_(maize)___Northern_Leaf_Blight', 'Potato___Late_blight', 'Tomato___Spider_mites Two-spotted_spider_mite', 'Corn_(maize)___healthy', 'Raspberry___healthy', 'Tomato___Early_blight', 'Pepper,_bell___healthy', 'Corn_(maize)___Common_rust_', 'Tomato___Target_Spot', 'Apple___Apple_scab', 'Tomato___healthy', 'Apple___healthy', 'Tomato___Septoria_leaf_spot', 'Apple___Black_rot', 'Peach___healthy', 'Strawberry___healthy', 'Potato___Early_blight', 'Pepper,_bell___Bacterial_spot', 'Apple___Cedar_apple_rust', 'Strawberry___Leaf_scorch', 'Tomato___Tomato_Yellow_Leaf_Curl_Virus', 'Cherry_(including_sour)___Powdery_mildew', 'Soybean___healthy', 'Grape___healthy', 'Tomato___Bacterial_spot', 'Orange___Haunglongbing_(Citrus_greening)', 'Grape___Black_rot', 'Tomato___Tomato_mosaic_virus', 'Potato___healthy', 'Corn_(maize)___Cercospora_leaf_spot Gray_leaf_spot', 'Blueberry___healthy', 'Tomato___Leaf_Mold', 'Tomato___Late_blight', 'Peach___Bacterial_spot']\n"
          ]
        }
      ]
    },
    {
      "cell_type": "code",
      "source": [
        "# Using a data loader to split data\n",
        "\n",
        "train_split = 0.7\n",
        "valid_split = 0.15\n",
        "test_split = 0.15\n",
        "\n",
        "for class_folder in class_folders:\n",
        "    class_path = os.path.join(data_path, class_folder)\n",
        "    if os.path.isdir(class_path):\n",
        "        images = os.listdir(class_path)\n",
        "        random.shuffle(images)\n",
        "\n",
        "        num_images = len(images)\n",
        "        num_train = int(train_split * num_images)\n",
        "        num_valid = int(valid_split * num_images)\n",
        "\n",
        "        train_images = images[:num_train]\n",
        "        valid_images = images[num_train:num_train + num_valid]\n",
        "        test_images = images[num_train + num_valid:]\n",
        "\n",
        "        train_class_dir = os.path.join(train_dir, class_folder)\n",
        "        valid_class_dir = os.path.join(valid_dir, class_folder)\n",
        "        test_class_dir = os.path.join(test_dir, class_folder)\n",
        "\n",
        "        os.makedirs(train_class_dir, exist_ok=True)\n",
        "        os.makedirs(valid_class_dir, exist_ok=True)\n",
        "        os.makedirs(test_class_dir, exist_ok=True)\n",
        "\n",
        "        for image in train_images:\n",
        "            src = os.path.join(class_path, image)\n",
        "            dst = os.path.join(train_class_dir, image)\n",
        "            shutil.copy(src, dst)\n",
        "\n",
        "        for image in valid_images:\n",
        "            src = os.path.join(class_path, image)\n",
        "            dst = os.path.join(valid_class_dir, image)\n",
        "            shutil.copy(src, dst)\n",
        "\n",
        "        for image in test_images:\n",
        "            src = os.path.join(class_path, image)\n",
        "            dst = os.path.join(test_class_dir, image)\n",
        "            shutil.copy(src, dst)\n",
        "\n",
        "print(\"Dataset split into train, validation, and test sets.\")"
      ],
      "metadata": {
        "colab": {
          "base_uri": "https://localhost:8080/"
        },
        "id": "irsEm25QD1Dk",
        "outputId": "950283a9-2736-4318-af0b-f20189b31d07"
      },
      "execution_count": null,
      "outputs": [
        {
          "output_type": "stream",
          "name": "stdout",
          "text": [
            "Dataset split into train, validation, and test sets.\n"
          ]
        }
      ]
    },
    {
      "cell_type": "code",
      "source": [
        "from keras.models import Sequential\n",
        "from keras.layers import Conv2D, MaxPooling2D, Flatten, Dense, Dropout"
      ],
      "metadata": {
        "id": "UpsQCLBnD2ta"
      },
      "execution_count": null,
      "outputs": []
    },
    {
      "cell_type": "code",
      "source": [
        "# Defining the architecture of the network\n",
        "\n",
        "\n",
        "import tensorflow as tf\n",
        "from tensorflow.keras import layers, models\n",
        "\n",
        "image_size = (120, 120, 3)\n",
        "\n",
        "model = Sequential()\n",
        "\n",
        "model.add(Conv2D(32, (3, 3), activation='relu', input_shape=(120, 120, 3)))\n",
        "model.add(MaxPooling2D((2, 2)))\n",
        "\n",
        "model.add(Conv2D(64, (3, 3), activation='relu'))\n",
        "model.add(MaxPooling2D((2, 2)))\n",
        "\n",
        "model.add(Conv2D(128, (3, 3), activation='relu'))\n",
        "model.add(MaxPooling2D((2, 2)))\n",
        "\n",
        "model.add(Dropout(0.25))\n",
        "\n",
        "model.add(Flatten())\n",
        "\n",
        "model.add(Dense(512, activation='relu'))\n",
        "model.add(Dropout(0.5))\n",
        "\n",
        "model.add(Dense(38, activation='softmax'))\n",
        "\n",
        "model.compile(loss='categorical_crossentropy', optimizer='adam', metrics=['accuracy'])\n",
        "\n",
        "model.summary()"
      ],
      "metadata": {
        "colab": {
          "base_uri": "https://localhost:8080/"
        },
        "id": "iX4y6TD4ECsR",
        "outputId": "0c47108f-4bca-4a34-9921-247896ad3126"
      },
      "execution_count": null,
      "outputs": [
        {
          "output_type": "stream",
          "name": "stdout",
          "text": [
            "Model: \"sequential\"\n",
            "_________________________________________________________________\n",
            " Layer (type)                Output Shape              Param #   \n",
            "=================================================================\n",
            " conv2d (Conv2D)             (None, 118, 118, 32)      896       \n",
            "                                                                 \n",
            " max_pooling2d (MaxPooling2D  (None, 59, 59, 32)       0         \n",
            " )                                                               \n",
            "                                                                 \n",
            " conv2d_1 (Conv2D)           (None, 57, 57, 64)        18496     \n",
            "                                                                 \n",
            " max_pooling2d_1 (MaxPooling  (None, 28, 28, 64)       0         \n",
            " 2D)                                                             \n",
            "                                                                 \n",
            " conv2d_2 (Conv2D)           (None, 26, 26, 128)       73856     \n",
            "                                                                 \n",
            " max_pooling2d_2 (MaxPooling  (None, 13, 13, 128)      0         \n",
            " 2D)                                                             \n",
            "                                                                 \n",
            " dropout (Dropout)           (None, 13, 13, 128)       0         \n",
            "                                                                 \n",
            " flatten (Flatten)           (None, 21632)             0         \n",
            "                                                                 \n",
            " dense (Dense)               (None, 512)               11076096  \n",
            "                                                                 \n",
            " dropout_1 (Dropout)         (None, 512)               0         \n",
            "                                                                 \n",
            " dense_1 (Dense)             (None, 38)                19494     \n",
            "                                                                 \n",
            "=================================================================\n",
            "Total params: 11,188,838\n",
            "Trainable params: 11,188,838\n",
            "Non-trainable params: 0\n",
            "_________________________________________________________________\n"
          ]
        }
      ]
    },
    {
      "cell_type": "code",
      "source": [
        "from tensorflow.keras.preprocessing.image import ImageDataGenerator\n",
        "\n",
        "image_size = (120, 120)\n",
        "batch_size = 32\n",
        "\n",
        "# Creating a data generator for training, validation and testing data\n",
        "train_datagen = ImageDataGenerator(\n",
        "    rescale=1.0/255,\n",
        "    rotation_range=20,\n",
        "    width_shift_range=0.2,\n",
        "    height_shift_range=0.2,\n",
        "    horizontal_flip=True\n",
        ")\n",
        "\n",
        "train_generator = train_datagen.flow_from_directory(\n",
        "    train_dir,\n",
        "    target_size=image_size,\n",
        "    batch_size=batch_size,\n",
        "    class_mode='categorical'\n",
        ")\n",
        "\n",
        "\n",
        "valid_datagen = ImageDataGenerator(rescale=1.0/255)\n",
        "\n",
        "\n",
        "valid_generator = valid_datagen.flow_from_directory(\n",
        "    valid_dir,\n",
        "    target_size=image_size,\n",
        "    batch_size=batch_size,\n",
        "    class_mode='categorical'\n",
        ")\n",
        "\n",
        "test_datagen = ImageDataGenerator(rescale=1.0/255)\n",
        "\n",
        "test_generator = test_datagen.flow_from_directory(\n",
        "    test_dir,\n",
        "    target_size=image_size,\n",
        "    batch_size=batch_size,\n",
        "    class_mode='categorical'\n",
        ")\n"
      ],
      "metadata": {
        "colab": {
          "base_uri": "https://localhost:8080/"
        },
        "id": "FSXNbifAEEsP",
        "outputId": "688a8944-b1c0-435c-eae8-dea0a9e1fd15"
      },
      "execution_count": null,
      "outputs": [
        {
          "output_type": "stream",
          "name": "stdout",
          "text": [
            "Found 37997 images belonging to 38 classes.\n",
            "Found 8129 images belonging to 38 classes.\n",
            "Found 8179 images belonging to 38 classes.\n"
          ]
        }
      ]
    },
    {
      "cell_type": "code",
      "source": [
        "from tensorflow.keras.callbacks import ModelCheckpoint\n",
        "\n",
        "train_steps_per_epoch = len(train_generator)\n",
        "\n",
        "valid_steps_per_epoch = len(valid_generator)\n",
        "\n",
        "num_epochs = 45\n",
        "\n",
        "# Creating a ModelCheckpoint callback to save the best model during training\n",
        "checkpoint_callback = ModelCheckpoint(\"best_model.h5\", save_best_only=True)\n",
        "\n",
        "# Training the model\n",
        "history = model.fit(\n",
        "    train_generator,\n",
        "    steps_per_epoch=train_steps_per_epoch,\n",
        "    epochs=num_epochs,\n",
        "    validation_data=valid_generator,\n",
        "    validation_steps=valid_steps_per_epoch,\n",
        "    callbacks=[checkpoint_callback]\n",
        ")\n"
      ],
      "metadata": {
        "colab": {
          "base_uri": "https://localhost:8080/"
        },
        "id": "dsdHFRpWELwG",
        "outputId": "81201a64-f965-4e1c-f529-e468530232a5"
      },
      "execution_count": null,
      "outputs": [
        {
          "output_type": "stream",
          "name": "stdout",
          "text": [
            "Epoch 1/45\n",
            "1188/1188 [==============================] - 213s 168ms/step - loss: 1.8689 - accuracy: 0.4742 - val_loss: 1.1504 - val_accuracy: 0.6618\n",
            "Epoch 2/45\n",
            "1188/1188 [==============================] - 190s 160ms/step - loss: 0.9937 - accuracy: 0.6955 - val_loss: 0.6085 - val_accuracy: 0.8045\n",
            "Epoch 3/45\n",
            "1188/1188 [==============================] - 190s 160ms/step - loss: 0.7609 - accuracy: 0.7625 - val_loss: 0.5703 - val_accuracy: 0.8215\n",
            "Epoch 4/45\n",
            "1188/1188 [==============================] - 192s 161ms/step - loss: 0.6399 - accuracy: 0.7992 - val_loss: 0.5125 - val_accuracy: 0.8386\n",
            "Epoch 5/45\n",
            "1188/1188 [==============================] - 188s 158ms/step - loss: 0.5651 - accuracy: 0.8216 - val_loss: 0.3965 - val_accuracy: 0.8761\n",
            "Epoch 6/45\n",
            "1188/1188 [==============================] - 191s 160ms/step - loss: 0.5235 - accuracy: 0.8332 - val_loss: 0.6519 - val_accuracy: 0.8227\n",
            "Epoch 7/45\n",
            "1188/1188 [==============================] - 193s 163ms/step - loss: 0.4631 - accuracy: 0.8534 - val_loss: 0.3324 - val_accuracy: 0.8919\n",
            "Epoch 8/45\n",
            "1188/1188 [==============================] - 191s 161ms/step - loss: 0.4422 - accuracy: 0.8599 - val_loss: 0.4481 - val_accuracy: 0.8609\n",
            "Epoch 9/45\n",
            "1188/1188 [==============================] - 193s 162ms/step - loss: 0.4163 - accuracy: 0.8669 - val_loss: 0.2557 - val_accuracy: 0.9193\n",
            "Epoch 10/45\n",
            "1188/1188 [==============================] - 192s 161ms/step - loss: 0.3946 - accuracy: 0.8735 - val_loss: 0.4007 - val_accuracy: 0.8796\n",
            "Epoch 11/45\n",
            "1188/1188 [==============================] - 189s 159ms/step - loss: 0.3784 - accuracy: 0.8781 - val_loss: 0.2252 - val_accuracy: 0.9288\n",
            "Epoch 12/45\n",
            "1188/1188 [==============================] - 192s 161ms/step - loss: 0.3692 - accuracy: 0.8824 - val_loss: 0.1891 - val_accuracy: 0.9403\n",
            "Epoch 13/45\n",
            "1188/1188 [==============================] - 191s 161ms/step - loss: 0.3515 - accuracy: 0.8887 - val_loss: 0.2306 - val_accuracy: 0.9296\n",
            "Epoch 14/45\n",
            "1188/1188 [==============================] - 191s 160ms/step - loss: 0.3294 - accuracy: 0.8966 - val_loss: 0.4402 - val_accuracy: 0.8745\n",
            "Epoch 15/45\n",
            "1188/1188 [==============================] - 186s 157ms/step - loss: 0.3212 - accuracy: 0.8963 - val_loss: 0.1700 - val_accuracy: 0.9488\n",
            "Epoch 16/45\n",
            "1188/1188 [==============================] - 183s 154ms/step - loss: 0.3155 - accuracy: 0.9008 - val_loss: 0.2262 - val_accuracy: 0.9307\n",
            "Epoch 17/45\n",
            "1188/1188 [==============================] - 185s 156ms/step - loss: 0.3017 - accuracy: 0.9037 - val_loss: 0.2357 - val_accuracy: 0.9284\n",
            "Epoch 18/45\n",
            "1188/1188 [==============================] - 186s 156ms/step - loss: 0.2928 - accuracy: 0.9065 - val_loss: 0.1372 - val_accuracy: 0.9561\n",
            "Epoch 19/45\n",
            "1188/1188 [==============================] - 185s 156ms/step - loss: 0.2866 - accuracy: 0.9078 - val_loss: 0.2198 - val_accuracy: 0.9371\n",
            "Epoch 20/45\n",
            "1188/1188 [==============================] - 185s 156ms/step - loss: 0.2779 - accuracy: 0.9119 - val_loss: 0.1895 - val_accuracy: 0.9410\n",
            "Epoch 21/45\n",
            "1188/1188 [==============================] - 183s 154ms/step - loss: 0.2789 - accuracy: 0.9116 - val_loss: 0.1582 - val_accuracy: 0.9502\n",
            "Epoch 22/45\n",
            "1188/1188 [==============================] - 185s 156ms/step - loss: 0.2678 - accuracy: 0.9144 - val_loss: 0.2112 - val_accuracy: 0.9364\n",
            "Epoch 23/45\n",
            "1188/1188 [==============================] - 185s 156ms/step - loss: 0.2594 - accuracy: 0.9179 - val_loss: 0.1369 - val_accuracy: 0.9630\n",
            "Epoch 24/45\n",
            "1188/1188 [==============================] - 184s 155ms/step - loss: 0.2670 - accuracy: 0.9160 - val_loss: 0.3647 - val_accuracy: 0.8962\n",
            "Epoch 25/45\n",
            "1188/1188 [==============================] - 185s 156ms/step - loss: 0.2511 - accuracy: 0.9213 - val_loss: 0.1400 - val_accuracy: 0.9612\n",
            "Epoch 26/45\n",
            "1188/1188 [==============================] - 183s 154ms/step - loss: 0.2512 - accuracy: 0.9214 - val_loss: 0.1926 - val_accuracy: 0.9465\n",
            "Epoch 27/45\n",
            "1188/1188 [==============================] - 184s 155ms/step - loss: 0.2498 - accuracy: 0.9214 - val_loss: 0.1977 - val_accuracy: 0.9440\n",
            "Epoch 28/45\n",
            "1188/1188 [==============================] - 184s 155ms/step - loss: 0.2356 - accuracy: 0.9267 - val_loss: 0.1811 - val_accuracy: 0.9461\n",
            "Epoch 29/45\n",
            "1188/1188 [==============================] - 182s 153ms/step - loss: 0.2338 - accuracy: 0.9268 - val_loss: 0.1849 - val_accuracy: 0.9461\n",
            "Epoch 30/45\n",
            "1188/1188 [==============================] - 182s 153ms/step - loss: 0.2422 - accuracy: 0.9239 - val_loss: 0.1643 - val_accuracy: 0.9566\n",
            "Epoch 31/45\n",
            "1188/1188 [==============================] - 183s 154ms/step - loss: 0.2281 - accuracy: 0.9281 - val_loss: 0.2241 - val_accuracy: 0.9381\n",
            "Epoch 32/45\n",
            "1188/1188 [==============================] - 182s 154ms/step - loss: 0.2256 - accuracy: 0.9290 - val_loss: 0.1609 - val_accuracy: 0.9599\n",
            "Epoch 33/45\n",
            "1188/1188 [==============================] - 189s 159ms/step - loss: 0.2191 - accuracy: 0.9313 - val_loss: 0.1986 - val_accuracy: 0.9459\n",
            "Epoch 34/45\n",
            "1188/1188 [==============================] - 185s 156ms/step - loss: 0.2331 - accuracy: 0.9288 - val_loss: 0.1546 - val_accuracy: 0.9563\n",
            "Epoch 35/45\n",
            "1188/1188 [==============================] - 186s 157ms/step - loss: 0.2206 - accuracy: 0.9324 - val_loss: 0.1936 - val_accuracy: 0.9531\n",
            "Epoch 36/45\n",
            "1188/1188 [==============================] - 184s 155ms/step - loss: 0.2363 - accuracy: 0.9287 - val_loss: 0.1609 - val_accuracy: 0.9537\n",
            "1188/1188 [==============================] - 182s 153ms/step - loss: 0.2219 - accuracy: 0.9309 - val_loss: 0.2301 - val_accuracy: 0.9338\n",
            "Epoch 38/45\n",
            "1188/1188 [==============================] - 182s 153ms/step - loss: 0.2169 - accuracy: 0.9325 - val_loss: 0.1565 - val_accuracy: 0.9578\n",
            "Epoch 39/45\n",
            "1188/1188 [==============================] - 184s 155ms/step - loss: 0.2201 - accuracy: 0.9313 - val_loss: 0.1453 - val_accuracy: 0.9619\n",
            "Epoch 40/45\n",
            "1188/1188 [==============================] - 185s 155ms/step - loss: 0.2194 - accuracy: 0.9334 - val_loss: 0.1103 - val_accuracy: 0.9701\n",
            "Epoch 41/45\n",
            "1188/1188 [==============================] - 187s 157ms/step - loss: 0.2090 - accuracy: 0.9343 - val_loss: 0.2385 - val_accuracy: 0.9357\n",
            "Epoch 42/45\n",
            "1188/1188 [==============================] - 185s 156ms/step - loss: 0.2069 - accuracy: 0.9371 - val_loss: 0.1851 - val_accuracy: 0.9503\n",
            "Epoch 43/45\n",
            "1188/1188 [==============================] - 182s 153ms/step - loss: 0.2214 - accuracy: 0.9324 - val_loss: 0.1112 - val_accuracy: 0.9684\n",
            "Epoch 44/45\n",
            "1188/1188 [==============================] - 184s 155ms/step - loss: 0.2042 - accuracy: 0.9360 - val_loss: 0.1573 - val_accuracy: 0.9550\n",
            "Epoch 45/45\n",
            "1188/1188 [==============================] - 183s 154ms/step - loss: 0.2037 - accuracy: 0.9385 - val_loss: 0.1608 - val_accuracy: 0.9571\n"
          ]
        }
      ]
    },
    {
      "cell_type": "code",
      "source": [
        "# Using the trained model to make predictions\n",
        "predictions = model.predict(test_generator)\n",
        "\n",
        "predicted_labels = predictions.argmax(axis=1)\n",
        "\n",
        "# Getting true class labels from the test generator\n",
        "true_labels = test_generator.classes"
      ],
      "metadata": {
        "colab": {
          "base_uri": "https://localhost:8080/"
        },
        "id": "20QOdOIHEPB7",
        "outputId": "101b0816-1f9e-4db4-a72f-a99b78654c41"
      },
      "execution_count": null,
      "outputs": [
        {
          "output_type": "stream",
          "name": "stdout",
          "text": [
            "256/256 [==============================] - 9s 34ms/step\n"
          ]
        }
      ]
    },
    {
      "cell_type": "code",
      "source": [
        "# Evaluating the model on the test dataset\n",
        "test_loss, test_accuracy = model.evaluate(test_generator)\n",
        "\n",
        "print(f\"Test Loss: {test_loss:.4f}\")\n",
        "print(f\"Test Accuracy: {test_accuracy:.4f}\")\n"
      ],
      "metadata": {
        "colab": {
          "base_uri": "https://localhost:8080/"
        },
        "id": "F-xDPRNNERSW",
        "outputId": "c827f04f-d7f8-4351-ed8e-7c9a5876858b"
      },
      "execution_count": null,
      "outputs": [
        {
          "output_type": "stream",
          "name": "stdout",
          "text": [
            "256/256 [==============================] - 10s 38ms/step - loss: 0.1364 - accuracy: 0.9620\n",
            "Test Loss: 0.1364\n",
            "Test Accuracy: 0.9620\n"
          ]
        }
      ]
    },
    {
      "cell_type": "code",
      "source": [
        "from google.colab import drive\n",
        "drive.mount('/content/drive/Mydrive', force_remount = True)"
      ],
      "metadata": {
        "colab": {
          "base_uri": "https://localhost:8080/"
        },
        "id": "Git-wftgC-60",
        "outputId": "7a9b9f24-3c63-4701-ab69-0313dd5177de"
      },
      "execution_count": null,
      "outputs": [
        {
          "output_type": "stream",
          "name": "stdout",
          "text": [
            "Mounted at /content/drive/Mydrive\n"
          ]
        }
      ]
    },
    {
      "cell_type": "code",
      "source": [
        "model.save('/content/drive/MyDrive/Leaf/model.h5')"
      ],
      "metadata": {
        "id": "0XW9jxlGreV2"
      },
      "execution_count": null,
      "outputs": []
    }
  ]
}